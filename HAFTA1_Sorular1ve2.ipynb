{
  "nbformat": 4,
  "nbformat_minor": 0,
  "metadata": {
    "colab": {
      "provenance": [],
      "authorship_tag": "ABX9TyNodPkekDjXoO8JRFdqRt1h",
      "include_colab_link": true
    },
    "kernelspec": {
      "name": "python3",
      "display_name": "Python 3"
    },
    "language_info": {
      "name": "python"
    }
  },
  "cells": [
    {
      "cell_type": "markdown",
      "metadata": {
        "id": "view-in-github",
        "colab_type": "text"
      },
      "source": [
        "<a href=\"https://colab.research.google.com/github/phorabix/Veri-Bilimine-Giri-/blob/main/HAFTA1_Sorular1ve2.ipynb\" target=\"_parent\"><img src=\"https://colab.research.google.com/assets/colab-badge.svg\" alt=\"Open In Colab\"/></a>"
      ]
    },
    {
      "cell_type": "code",
      "execution_count": null,
      "metadata": {
        "id": "4uyT2k8SMIrL",
        "outputId": "e2b77cf2-1eed-4bc2-e2d2-7ae059932c31",
        "colab": {
          "base_uri": "https://localhost:8080/"
        }
      },
      "outputs": [
        {
          "output_type": "stream",
          "name": "stdout",
          "text": [
            "Marka: Toyota, Model: Corolla\n"
          ]
        }
      ],
      "source": [
        "#######  1.HAFTA  ########\n",
        "\"\"\"SORULAR1\"\"\"\n",
        "\n",
        "#1.SORU\n",
        "\n",
        "class Araba:                                                        #Araba adında bir sınıf tanımlanıyor\n",
        "    def __init__(self, marka, model):                               #Bu kısımda her arabanın bir marka ve modeli olacağı belirtiliyor.\n",
        "        self.marka = marka\n",
        "        self.model = model\n",
        "\n",
        "    def bilgileri_yazdir(self):\n",
        "        print(f\"Marka: {self.marka}, Model: {self.model}\")\n",
        "\n",
        "araba1 = Araba(\"Toyota\", \"Corolla\")                                 #araba1 adında ve markası Totoya, modeli Corolla olan nesne üretiliyor.\n",
        "araba1.bilgileri_yazdir()                                           #verilen bilgiler yazdırılıyor.\n",
        "\n"
      ]
    },
    {
      "cell_type": "code",
      "source": [
        "\"\"\"SORULAR1\"\"\"\n",
        "\n",
        "#2.SORU\n",
        "\n",
        "class Dikdortgen:                                        #1.sorudaki gibi bir örnek. Dikdörtgen sınıfı oluşturuluyor.\n",
        "    def __init__(self, genislik, yukseklik):             #Genişliği ve yüksekliği olacağı söyleniyor\n",
        "        self.genislik = genislik\n",
        "        self.yukseklik = yukseklik\n",
        "\n",
        "    def alan_hesapla(self):                              #Alan hesabı için genişlik ve yüksekliğin çarpılması gerektiği\n",
        "        return self.genislik * self.yukseklik\n",
        "\n",
        "dikdortgen1 = Dikdortgen(5, 10)                          #gerçek bir örnekle birlikte uzunluklar veriliyor.\n",
        "alan = dikdortgen1.alan_hesapla()\n",
        "print(f\"Dikdörtgenin alanı: {alan}\")                     #bulunan alan yazdırılıyor\n",
        "\n"
      ],
      "metadata": {
        "colab": {
          "base_uri": "https://localhost:8080/"
        },
        "id": "YuNIcmFfMUz3",
        "outputId": "3efab3e6-b0b8-45e5-994e-b19fcf406c26"
      },
      "execution_count": null,
      "outputs": [
        {
          "output_type": "stream",
          "name": "stdout",
          "text": [
            "Dikdörtgenin alanı: 50\n"
          ]
        }
      ]
    },
    {
      "cell_type": "code",
      "source": [
        "\"\"\"SORULAR1\"\"\"\n",
        "\n",
        "#3.SORU\n",
        "\n",
        "class Kare:\n",
        "    def __init__(self, kenar):\n",
        "        self.kenar = kenar\n",
        "\n",
        "    def kareyi_yazdir(self):\n",
        "        for i in range(self.kenar):\n",
        "            print(\"* \" * self.kenar)\n",
        "\n",
        "# Kare sınıfından bir nesne oluşturma ve kareyi yazdırma\n",
        "kare1 = Kare(5)\n",
        "kare1.kareyi_yazdir()"
      ],
      "metadata": {
        "colab": {
          "base_uri": "https://localhost:8080/"
        },
        "id": "keMMmrnoMU22",
        "outputId": "697c3ab9-e4b1-470b-d347-6b84b4e43248"
      },
      "execution_count": null,
      "outputs": [
        {
          "output_type": "stream",
          "name": "stdout",
          "text": [
            "* * * * * \n",
            "* * * * * \n",
            "* * * * * \n",
            "* * * * * \n",
            "* * * * * \n"
          ]
        }
      ]
    },
    {
      "cell_type": "code",
      "source": [
        "\"\"\"SORULAR1\"\"\"\n",
        "\n",
        "#4.SORU\n",
        "\n",
        "class HesapMakinesi:\n",
        "    def topla(self, sayi1, sayi2, sayi3=None):     #3.sayının olmaması durumunda iki sayının toplanması\n",
        "        if sayi3 is not None:\n",
        "            return sayi1 + sayi2 + sayi3\n",
        "        else:\n",
        "            return sayi1 + sayi2\n",
        "\n",
        "hesap_makinesi = HesapMakinesi()\n",
        "\n",
        "sonuc1 = hesap_makinesi.topla(10, 20)\n",
        "print(\"İki sayının toplamı:\", sonuc1)\n",
        "\n",
        "sonuc2 = hesap_makinesi.topla(10, 20, 30)\n",
        "print(\"Üç sayının toplamı:\", sonuc2)\n",
        "\n"
      ],
      "metadata": {
        "id": "6b_wkiYvMU5n",
        "outputId": "2ddcdf9f-c3dc-4a69-a5b5-9b36ee965949",
        "colab": {
          "base_uri": "https://localhost:8080/"
        }
      },
      "execution_count": null,
      "outputs": [
        {
          "output_type": "stream",
          "name": "stdout",
          "text": [
            "İki sayının toplamı: 30\n",
            "Üç sayının toplamı: 60\n"
          ]
        }
      ]
    },
    {
      "cell_type": "code",
      "source": [
        "\"\"\"SORULAR1\"\"\"\n",
        "\n",
        "#5.SORU\n",
        "\n",
        "class Merhaba:\n",
        "    def merhaba_yazdir(self):\n",
        "        print(\"Merhaba Dünya\")\n",
        "merhaba = Merhaba()\n",
        "merhaba.merhaba_yazdir()\n",
        "\n"
      ],
      "metadata": {
        "colab": {
          "base_uri": "https://localhost:8080/"
        },
        "id": "fGq8amJZQWuj",
        "outputId": "ec6c55e4-2dda-4e01-a86c-81da9d2e2fa2"
      },
      "execution_count": null,
      "outputs": [
        {
          "output_type": "stream",
          "name": "stdout",
          "text": [
            "Merhaba Dünya\n"
          ]
        }
      ]
    },
    {
      "cell_type": "code",
      "source": [
        "\"\"\"SORULAR2\"\"\"\n",
        "class Insan:\n",
        "    def __init__(self, ad, yas):\n",
        "        self.ad = ad\n",
        "        self.yas = yas\n",
        "\n",
        "    def konus(self):\n",
        "        print(f\"Merhaba, benim adım {self.ad} ve ben {self.yas} yaşındayım.\")\n",
        "\n",
        "class Hoca(Insan):\n",
        "    def __init__(self, ad, yas, sicil_no):\n",
        "        super().__init__(ad, yas)\n",
        "        self.sicil_numarasi = sicil_no\n",
        "\n",
        "    def konus(self):\n",
        "        print(f\"Merhaba, benim adım {self.ad}. Dersimize başlayalım.\")\n",
        "\n",
        "    def ders_ver(self, ders_adi):\n",
        "        print(f\"{self.ad}, {ders_adi} dersinde.\")\n",
        "\n",
        "\n",
        "class Sekreter(Insan):\n",
        "    def __init__(self, ad, yas, departman):\n",
        "\n",
        "        super().__init__(ad, yas)\n",
        "        self.departman = departman\n",
        "\n",
        "    def konus(self):\n",
        "        print(f\"Merhaba, ben sekreter {self.ad}. Nasıl yardımcı olabilirim?\")\n",
        "\n",
        "    def randevu(self, kiminle, tarih):\n",
        "        print(f\"{self.ad}, {kiminle} için {tarih} tarihine randevu oluşturdu.\")\n",
        "\n",
        "class Ogrenci(Insan):\n",
        "    def __init__(self, ad, yas, ogrenci_no):\n",
        "        super().__init__(ad, yas)\n",
        "        self.ogrenci_numarasi = ogrenci_no\n",
        "\n",
        "    def konus(self):\n",
        "        print(f\"Merhaba, ben öğrenci {self.ad}. Ödevlerimi yapmam lazım.\")\n",
        "\n",
        "    def ders_calis(self, ders_adi):\n",
        "        print(f\"{self.ad}, {ders_adi} dersine çalışıyor.\")\n",
        "\n",
        "print(\"--- Nesneler Oluşturuluyor ---\")\n",
        "hoca1 = Hoca(\"Ahmet\", 45, \"S12345\")\n",
        "sekreter1 = Sekreter(\"Ayşe\", 32, \"Öğrenci İşleri\")\n",
        "ogrenci1 = Ogrenci(\"Mehmet\", 21, \"19203040\")\n",
        "\n",
        "print(\"\\n 'konus' Metotları Çağrılıyor\")\n",
        "hoca1.konus()\n",
        "sekreter1.konus()\n",
        "ogrenci1.konus()\n",
        "\n",
        "print(\"\\n Sınıflara Özgü Metotlar Çağrılıyor \")\n",
        "hoca1.ders_ver(\"Python Programlama\")\n",
        "sekreter1.randevu(\"Bölüm Başkanı\", \"18.10.2025\")\n",
        "ogrenci1.ders_calis(\"Veri Yapıları\")"
      ],
      "metadata": {
        "colab": {
          "base_uri": "https://localhost:8080/"
        },
        "id": "6ZLD46O6MVEI",
        "outputId": "f2c46041-d3ea-40ec-e949-7fcada2bf296"
      },
      "execution_count": null,
      "outputs": [
        {
          "output_type": "stream",
          "name": "stdout",
          "text": [
            "--- Nesneler Oluşturuluyor ---\n",
            "\n",
            " 'konus' Metotları Çağrılıyor\n",
            "Merhaba, benim adım Ahmet. Dersimize başlayalım.\n",
            "Merhaba, ben sekreter Ayşe. Nasıl yardımcı olabilirim?\n",
            "Merhaba, ben öğrenci Mehmet. Ödevlerimi yapmam lazım.\n",
            "\n",
            " Sınıflara Özgü Metotlar Çağrılıyor \n",
            "Ahmet, Python Programlama dersinde.\n",
            "Ayşe, Bölüm Başkanı için 18.10.2025 tarihine randevu oluşturdu.\n",
            "Mehmet, Veri Yapıları dersine çalışıyor.\n"
          ]
        }
      ]
    }
  ]
}