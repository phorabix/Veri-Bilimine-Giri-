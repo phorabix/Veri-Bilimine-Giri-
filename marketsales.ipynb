{
  "cells": [
    {
      "cell_type": "markdown",
      "metadata": {
        "id": "view-in-github",
        "colab_type": "text"
      },
      "source": [
        "<a href=\"https://colab.research.google.com/github/phorabix/Veri-Bilimine-Giri-/blob/main/marketsales.ipynb\" target=\"_parent\"><img src=\"https://colab.research.google.com/assets/colab-badge.svg\" alt=\"Open In Colab\"/></a>"
      ]
    },
    {
      "cell_type": "markdown",
      "metadata": {
        "id": "zUlON4PfKdDG"
      },
      "source": [
        "#### 1- Kütüphanelerin Yüklenmesi"
      ]
    },
    {
      "cell_type": "code",
      "execution_count": null,
      "metadata": {
        "id": "JdHD0cxkKdDI"
      },
      "outputs": [],
      "source": [
        "import numpy as np ## numpy kütüphanesinin import edilmesi\n",
        "import pandas as pd ## pandas kütüphanesinin import edilmesi\n",
        "import seaborn as sns ## seaborn kütüphanesinin import edilmesi\n",
        "import matplotlib.pyplot as plt ## matplotlip kütüphanesinin import edilmesi\n",
        "import datetime as dt ## datetime kütüphanesinin import edilmesi\n",
        "pd.pandas.set_option('display.max_columns', None) ## dataframein tüm sutunlarının görülmesi için gereken kod"
      ]
    },
    {
      "cell_type": "markdown",
      "metadata": {
        "id": "ByJsAbDMKdDJ"
      },
      "source": [
        "### 2- Verisetinin Yüklenmesi"
      ]
    },
    {
      "cell_type": "code",
      "source": [
        "from google.colab import drive\n",
        "drive.mount('/content/drive')   # sen lokaldeysen gerek yok"
      ],
      "metadata": {
        "colab": {
          "base_uri": "https://localhost:8080/"
        },
        "id": "gKqNCatRK-T8",
        "outputId": "61b9438a-5072-4712-dc19-3fa6b71757ce"
      },
      "execution_count": 19,
      "outputs": [
        {
          "output_type": "stream",
          "name": "stdout",
          "text": [
            "Drive already mounted at /content/drive; to attempt to forcibly remount, call drive.mount(\"/content/drive\", force_remount=True).\n"
          ]
        }
      ]
    },
    {
      "cell_type": "code",
      "execution_count": 20,
      "metadata": {
        "collapsed": true,
        "jupyter": {
          "outputs_hidden": true
        },
        "tags": [],
        "id": "8WoZ6sHaKdDJ"
      },
      "outputs": [],
      "source": [
        "### Veri Çok fazla olduğundan biraz zaman alabilir.\n",
        "data = pd.read_excel(\"/content/drive/My Drive/MarketSales.xlsx\")"
      ]
    },
    {
      "cell_type": "code",
      "source": [
        "data.head()"
      ],
      "metadata": {
        "id": "quICxC6eN32p",
        "colab": {
          "base_uri": "https://localhost:8080/",
          "height": 451
        },
        "outputId": "9ada5792-45e4-4a61-b1c9-422956260edf"
      },
      "execution_count": 39,
      "outputs": [
        {
          "output_type": "execute_result",
          "data": {
            "text/plain": [
              "        ID  ITEMCODE                         ITEMNAME  FICHENO      DATE_  \\\n",
              "0  11738.0    5863.0  SPRITE 1 LT LIMON AROMALI GAZOZ    18456 2017-01-07   \n",
              "1  10537.0       8.0                        TOZ SEKER    18105 2017-01-06   \n",
              "2  11335.0    5979.0             FALIM SAKIZ 5LI NANE    18350 2017-01-03   \n",
              "3  11336.0    5979.0             FALIM SAKIZ 5LI NANE    18350 2017-01-03   \n",
              "4  10115.0   12808.0            FALIM SAKIZ 5LI CILEK    18005 2017-01-05   \n",
              "\n",
              "   AMOUNT  PRICE  LINENETTOTAL  LINENET  BRANCHNR           BRANCH  \\\n",
              "0     1.0   2.00          2.00     1.85      52.0   Kocaeli Subesi   \n",
              "1     5.0   2.65         13.25    12.27       8.0   Antalya Subesi   \n",
              "2     1.0   0.40          0.40     0.37      40.0  İstanbul Subesi   \n",
              "3     1.0   0.40          0.40     0.37      40.0  İstanbul Subesi   \n",
              "4     1.0   0.40          0.40     0.37      41.0     İzmir Subesi   \n",
              "\n",
              "       SALESMAN      CITY   REGION  LATITUDE  LONGITUDE CLIENTCODE  \\\n",
              "0     Eyüp CİNE   Kocaeli  Marmara   40.8533    29.8815     467369   \n",
              "1  İlhan ÖRENLİ   Antalya  Akdeniz   36.8841    30.7056     131464   \n",
              "2  İsmet SARTIK  İstanbul  Marmara   41.0053    28.9770     656969   \n",
              "3  İsmet SARTIK  İstanbul  Marmara   41.0053    28.9770     656969   \n",
              "4  Gülten IŞLAK     İzmir      Ege   38.4189    27.1287     447336   \n",
              "\n",
              "       CLIENTNAME BRANDCODE   BRAND CATEGORY_NAME1   CATEGORY_NAME2  \\\n",
              "0  Sercan KIZILOK       156  SPRİTE         İÇECEK     GAZLI İÇECEK   \n",
              "1    İsmet ŞINGIR       NaN     NaN         İÇECEK        ÇAY KAHVE   \n",
              "2     Yağız KUBAL       300   FALIM           GIDA  SAKIZ SEKERLEME   \n",
              "3     Yağız KUBAL       300   FALIM           GIDA  SAKIZ SEKERLEME   \n",
              "4    Habibe AYSAN       300   FALIM           GIDA  SAKIZ SEKERLEME   \n",
              "\n",
              "       CATEGORY_NAME3           STARTDATE             ENDDATE GENDER  \n",
              "0               GAZOZ 2017-01-08 16:16:11 2017-01-08 16:17:13      E  \n",
              "1  SEKER TATLANDIRICI 2017-01-07 11:04:34 2017-01-07 11:05:37      E  \n",
              "2               SAKIZ 2017-01-04 14:00:03 2017-01-04 14:01:01      E  \n",
              "3               SAKIZ 2017-01-04 14:00:03 2017-01-04 14:01:01      E  \n",
              "4               SAKIZ 2017-01-06 14:00:30 2017-01-06 14:01:03      K  "
            ],
            "text/html": [
              "\n",
              "  <div id=\"df-500c1c1b-5d15-4e66-8b52-8fb822952e63\" class=\"colab-df-container\">\n",
              "    <div>\n",
              "<style scoped>\n",
              "    .dataframe tbody tr th:only-of-type {\n",
              "        vertical-align: middle;\n",
              "    }\n",
              "\n",
              "    .dataframe tbody tr th {\n",
              "        vertical-align: top;\n",
              "    }\n",
              "\n",
              "    .dataframe thead th {\n",
              "        text-align: right;\n",
              "    }\n",
              "</style>\n",
              "<table border=\"1\" class=\"dataframe\">\n",
              "  <thead>\n",
              "    <tr style=\"text-align: right;\">\n",
              "      <th></th>\n",
              "      <th>ID</th>\n",
              "      <th>ITEMCODE</th>\n",
              "      <th>ITEMNAME</th>\n",
              "      <th>FICHENO</th>\n",
              "      <th>DATE_</th>\n",
              "      <th>AMOUNT</th>\n",
              "      <th>PRICE</th>\n",
              "      <th>LINENETTOTAL</th>\n",
              "      <th>LINENET</th>\n",
              "      <th>BRANCHNR</th>\n",
              "      <th>BRANCH</th>\n",
              "      <th>SALESMAN</th>\n",
              "      <th>CITY</th>\n",
              "      <th>REGION</th>\n",
              "      <th>LATITUDE</th>\n",
              "      <th>LONGITUDE</th>\n",
              "      <th>CLIENTCODE</th>\n",
              "      <th>CLIENTNAME</th>\n",
              "      <th>BRANDCODE</th>\n",
              "      <th>BRAND</th>\n",
              "      <th>CATEGORY_NAME1</th>\n",
              "      <th>CATEGORY_NAME2</th>\n",
              "      <th>CATEGORY_NAME3</th>\n",
              "      <th>STARTDATE</th>\n",
              "      <th>ENDDATE</th>\n",
              "      <th>GENDER</th>\n",
              "    </tr>\n",
              "  </thead>\n",
              "  <tbody>\n",
              "    <tr>\n",
              "      <th>0</th>\n",
              "      <td>11738.0</td>\n",
              "      <td>5863.0</td>\n",
              "      <td>SPRITE 1 LT LIMON AROMALI GAZOZ</td>\n",
              "      <td>18456</td>\n",
              "      <td>2017-01-07</td>\n",
              "      <td>1.0</td>\n",
              "      <td>2.00</td>\n",
              "      <td>2.00</td>\n",
              "      <td>1.85</td>\n",
              "      <td>52.0</td>\n",
              "      <td>Kocaeli Subesi</td>\n",
              "      <td>Eyüp CİNE</td>\n",
              "      <td>Kocaeli</td>\n",
              "      <td>Marmara</td>\n",
              "      <td>40.8533</td>\n",
              "      <td>29.8815</td>\n",
              "      <td>467369</td>\n",
              "      <td>Sercan KIZILOK</td>\n",
              "      <td>156</td>\n",
              "      <td>SPRİTE</td>\n",
              "      <td>İÇECEK</td>\n",
              "      <td>GAZLI İÇECEK</td>\n",
              "      <td>GAZOZ</td>\n",
              "      <td>2017-01-08 16:16:11</td>\n",
              "      <td>2017-01-08 16:17:13</td>\n",
              "      <td>E</td>\n",
              "    </tr>\n",
              "    <tr>\n",
              "      <th>1</th>\n",
              "      <td>10537.0</td>\n",
              "      <td>8.0</td>\n",
              "      <td>TOZ SEKER</td>\n",
              "      <td>18105</td>\n",
              "      <td>2017-01-06</td>\n",
              "      <td>5.0</td>\n",
              "      <td>2.65</td>\n",
              "      <td>13.25</td>\n",
              "      <td>12.27</td>\n",
              "      <td>8.0</td>\n",
              "      <td>Antalya Subesi</td>\n",
              "      <td>İlhan ÖRENLİ</td>\n",
              "      <td>Antalya</td>\n",
              "      <td>Akdeniz</td>\n",
              "      <td>36.8841</td>\n",
              "      <td>30.7056</td>\n",
              "      <td>131464</td>\n",
              "      <td>İsmet ŞINGIR</td>\n",
              "      <td>NaN</td>\n",
              "      <td>NaN</td>\n",
              "      <td>İÇECEK</td>\n",
              "      <td>ÇAY KAHVE</td>\n",
              "      <td>SEKER TATLANDIRICI</td>\n",
              "      <td>2017-01-07 11:04:34</td>\n",
              "      <td>2017-01-07 11:05:37</td>\n",
              "      <td>E</td>\n",
              "    </tr>\n",
              "    <tr>\n",
              "      <th>2</th>\n",
              "      <td>11335.0</td>\n",
              "      <td>5979.0</td>\n",
              "      <td>FALIM SAKIZ 5LI NANE</td>\n",
              "      <td>18350</td>\n",
              "      <td>2017-01-03</td>\n",
              "      <td>1.0</td>\n",
              "      <td>0.40</td>\n",
              "      <td>0.40</td>\n",
              "      <td>0.37</td>\n",
              "      <td>40.0</td>\n",
              "      <td>İstanbul Subesi</td>\n",
              "      <td>İsmet SARTIK</td>\n",
              "      <td>İstanbul</td>\n",
              "      <td>Marmara</td>\n",
              "      <td>41.0053</td>\n",
              "      <td>28.9770</td>\n",
              "      <td>656969</td>\n",
              "      <td>Yağız KUBAL</td>\n",
              "      <td>300</td>\n",
              "      <td>FALIM</td>\n",
              "      <td>GIDA</td>\n",
              "      <td>SAKIZ SEKERLEME</td>\n",
              "      <td>SAKIZ</td>\n",
              "      <td>2017-01-04 14:00:03</td>\n",
              "      <td>2017-01-04 14:01:01</td>\n",
              "      <td>E</td>\n",
              "    </tr>\n",
              "    <tr>\n",
              "      <th>3</th>\n",
              "      <td>11336.0</td>\n",
              "      <td>5979.0</td>\n",
              "      <td>FALIM SAKIZ 5LI NANE</td>\n",
              "      <td>18350</td>\n",
              "      <td>2017-01-03</td>\n",
              "      <td>1.0</td>\n",
              "      <td>0.40</td>\n",
              "      <td>0.40</td>\n",
              "      <td>0.37</td>\n",
              "      <td>40.0</td>\n",
              "      <td>İstanbul Subesi</td>\n",
              "      <td>İsmet SARTIK</td>\n",
              "      <td>İstanbul</td>\n",
              "      <td>Marmara</td>\n",
              "      <td>41.0053</td>\n",
              "      <td>28.9770</td>\n",
              "      <td>656969</td>\n",
              "      <td>Yağız KUBAL</td>\n",
              "      <td>300</td>\n",
              "      <td>FALIM</td>\n",
              "      <td>GIDA</td>\n",
              "      <td>SAKIZ SEKERLEME</td>\n",
              "      <td>SAKIZ</td>\n",
              "      <td>2017-01-04 14:00:03</td>\n",
              "      <td>2017-01-04 14:01:01</td>\n",
              "      <td>E</td>\n",
              "    </tr>\n",
              "    <tr>\n",
              "      <th>4</th>\n",
              "      <td>10115.0</td>\n",
              "      <td>12808.0</td>\n",
              "      <td>FALIM SAKIZ 5LI CILEK</td>\n",
              "      <td>18005</td>\n",
              "      <td>2017-01-05</td>\n",
              "      <td>1.0</td>\n",
              "      <td>0.40</td>\n",
              "      <td>0.40</td>\n",
              "      <td>0.37</td>\n",
              "      <td>41.0</td>\n",
              "      <td>İzmir Subesi</td>\n",
              "      <td>Gülten IŞLAK</td>\n",
              "      <td>İzmir</td>\n",
              "      <td>Ege</td>\n",
              "      <td>38.4189</td>\n",
              "      <td>27.1287</td>\n",
              "      <td>447336</td>\n",
              "      <td>Habibe AYSAN</td>\n",
              "      <td>300</td>\n",
              "      <td>FALIM</td>\n",
              "      <td>GIDA</td>\n",
              "      <td>SAKIZ SEKERLEME</td>\n",
              "      <td>SAKIZ</td>\n",
              "      <td>2017-01-06 14:00:30</td>\n",
              "      <td>2017-01-06 14:01:03</td>\n",
              "      <td>K</td>\n",
              "    </tr>\n",
              "  </tbody>\n",
              "</table>\n",
              "</div>\n",
              "    <div class=\"colab-df-buttons\">\n",
              "\n",
              "  <div class=\"colab-df-container\">\n",
              "    <button class=\"colab-df-convert\" onclick=\"convertToInteractive('df-500c1c1b-5d15-4e66-8b52-8fb822952e63')\"\n",
              "            title=\"Convert this dataframe to an interactive table.\"\n",
              "            style=\"display:none;\">\n",
              "\n",
              "  <svg xmlns=\"http://www.w3.org/2000/svg\" height=\"24px\" viewBox=\"0 -960 960 960\">\n",
              "    <path d=\"M120-120v-720h720v720H120Zm60-500h600v-160H180v160Zm220 220h160v-160H400v160Zm0 220h160v-160H400v160ZM180-400h160v-160H180v160Zm440 0h160v-160H620v160ZM180-180h160v-160H180v160Zm440 0h160v-160H620v160Z\"/>\n",
              "  </svg>\n",
              "    </button>\n",
              "\n",
              "  <style>\n",
              "    .colab-df-container {\n",
              "      display:flex;\n",
              "      gap: 12px;\n",
              "    }\n",
              "\n",
              "    .colab-df-convert {\n",
              "      background-color: #E8F0FE;\n",
              "      border: none;\n",
              "      border-radius: 50%;\n",
              "      cursor: pointer;\n",
              "      display: none;\n",
              "      fill: #1967D2;\n",
              "      height: 32px;\n",
              "      padding: 0 0 0 0;\n",
              "      width: 32px;\n",
              "    }\n",
              "\n",
              "    .colab-df-convert:hover {\n",
              "      background-color: #E2EBFA;\n",
              "      box-shadow: 0px 1px 2px rgba(60, 64, 67, 0.3), 0px 1px 3px 1px rgba(60, 64, 67, 0.15);\n",
              "      fill: #174EA6;\n",
              "    }\n",
              "\n",
              "    .colab-df-buttons div {\n",
              "      margin-bottom: 4px;\n",
              "    }\n",
              "\n",
              "    [theme=dark] .colab-df-convert {\n",
              "      background-color: #3B4455;\n",
              "      fill: #D2E3FC;\n",
              "    }\n",
              "\n",
              "    [theme=dark] .colab-df-convert:hover {\n",
              "      background-color: #434B5C;\n",
              "      box-shadow: 0px 1px 3px 1px rgba(0, 0, 0, 0.15);\n",
              "      filter: drop-shadow(0px 1px 2px rgba(0, 0, 0, 0.3));\n",
              "      fill: #FFFFFF;\n",
              "    }\n",
              "  </style>\n",
              "\n",
              "    <script>\n",
              "      const buttonEl =\n",
              "        document.querySelector('#df-500c1c1b-5d15-4e66-8b52-8fb822952e63 button.colab-df-convert');\n",
              "      buttonEl.style.display =\n",
              "        google.colab.kernel.accessAllowed ? 'block' : 'none';\n",
              "\n",
              "      async function convertToInteractive(key) {\n",
              "        const element = document.querySelector('#df-500c1c1b-5d15-4e66-8b52-8fb822952e63');\n",
              "        const dataTable =\n",
              "          await google.colab.kernel.invokeFunction('convertToInteractive',\n",
              "                                                    [key], {});\n",
              "        if (!dataTable) return;\n",
              "\n",
              "        const docLinkHtml = 'Like what you see? Visit the ' +\n",
              "          '<a target=\"_blank\" href=https://colab.research.google.com/notebooks/data_table.ipynb>data table notebook</a>'\n",
              "          + ' to learn more about interactive tables.';\n",
              "        element.innerHTML = '';\n",
              "        dataTable['output_type'] = 'display_data';\n",
              "        await google.colab.output.renderOutput(dataTable, element);\n",
              "        const docLink = document.createElement('div');\n",
              "        docLink.innerHTML = docLinkHtml;\n",
              "        element.appendChild(docLink);\n",
              "      }\n",
              "    </script>\n",
              "  </div>\n",
              "\n",
              "\n",
              "    <div id=\"df-e1b8b733-8c01-4ac2-a734-fe9c35620f5f\">\n",
              "      <button class=\"colab-df-quickchart\" onclick=\"quickchart('df-e1b8b733-8c01-4ac2-a734-fe9c35620f5f')\"\n",
              "                title=\"Suggest charts\"\n",
              "                style=\"display:none;\">\n",
              "\n",
              "<svg xmlns=\"http://www.w3.org/2000/svg\" height=\"24px\"viewBox=\"0 0 24 24\"\n",
              "     width=\"24px\">\n",
              "    <g>\n",
              "        <path d=\"M19 3H5c-1.1 0-2 .9-2 2v14c0 1.1.9 2 2 2h14c1.1 0 2-.9 2-2V5c0-1.1-.9-2-2-2zM9 17H7v-7h2v7zm4 0h-2V7h2v10zm4 0h-2v-4h2v4z\"/>\n",
              "    </g>\n",
              "</svg>\n",
              "      </button>\n",
              "\n",
              "<style>\n",
              "  .colab-df-quickchart {\n",
              "      --bg-color: #E8F0FE;\n",
              "      --fill-color: #1967D2;\n",
              "      --hover-bg-color: #E2EBFA;\n",
              "      --hover-fill-color: #174EA6;\n",
              "      --disabled-fill-color: #AAA;\n",
              "      --disabled-bg-color: #DDD;\n",
              "  }\n",
              "\n",
              "  [theme=dark] .colab-df-quickchart {\n",
              "      --bg-color: #3B4455;\n",
              "      --fill-color: #D2E3FC;\n",
              "      --hover-bg-color: #434B5C;\n",
              "      --hover-fill-color: #FFFFFF;\n",
              "      --disabled-bg-color: #3B4455;\n",
              "      --disabled-fill-color: #666;\n",
              "  }\n",
              "\n",
              "  .colab-df-quickchart {\n",
              "    background-color: var(--bg-color);\n",
              "    border: none;\n",
              "    border-radius: 50%;\n",
              "    cursor: pointer;\n",
              "    display: none;\n",
              "    fill: var(--fill-color);\n",
              "    height: 32px;\n",
              "    padding: 0;\n",
              "    width: 32px;\n",
              "  }\n",
              "\n",
              "  .colab-df-quickchart:hover {\n",
              "    background-color: var(--hover-bg-color);\n",
              "    box-shadow: 0 1px 2px rgba(60, 64, 67, 0.3), 0 1px 3px 1px rgba(60, 64, 67, 0.15);\n",
              "    fill: var(--button-hover-fill-color);\n",
              "  }\n",
              "\n",
              "  .colab-df-quickchart-complete:disabled,\n",
              "  .colab-df-quickchart-complete:disabled:hover {\n",
              "    background-color: var(--disabled-bg-color);\n",
              "    fill: var(--disabled-fill-color);\n",
              "    box-shadow: none;\n",
              "  }\n",
              "\n",
              "  .colab-df-spinner {\n",
              "    border: 2px solid var(--fill-color);\n",
              "    border-color: transparent;\n",
              "    border-bottom-color: var(--fill-color);\n",
              "    animation:\n",
              "      spin 1s steps(1) infinite;\n",
              "  }\n",
              "\n",
              "  @keyframes spin {\n",
              "    0% {\n",
              "      border-color: transparent;\n",
              "      border-bottom-color: var(--fill-color);\n",
              "      border-left-color: var(--fill-color);\n",
              "    }\n",
              "    20% {\n",
              "      border-color: transparent;\n",
              "      border-left-color: var(--fill-color);\n",
              "      border-top-color: var(--fill-color);\n",
              "    }\n",
              "    30% {\n",
              "      border-color: transparent;\n",
              "      border-left-color: var(--fill-color);\n",
              "      border-top-color: var(--fill-color);\n",
              "      border-right-color: var(--fill-color);\n",
              "    }\n",
              "    40% {\n",
              "      border-color: transparent;\n",
              "      border-right-color: var(--fill-color);\n",
              "      border-top-color: var(--fill-color);\n",
              "    }\n",
              "    60% {\n",
              "      border-color: transparent;\n",
              "      border-right-color: var(--fill-color);\n",
              "    }\n",
              "    80% {\n",
              "      border-color: transparent;\n",
              "      border-right-color: var(--fill-color);\n",
              "      border-bottom-color: var(--fill-color);\n",
              "    }\n",
              "    90% {\n",
              "      border-color: transparent;\n",
              "      border-bottom-color: var(--fill-color);\n",
              "    }\n",
              "  }\n",
              "</style>\n",
              "\n",
              "      <script>\n",
              "        async function quickchart(key) {\n",
              "          const quickchartButtonEl =\n",
              "            document.querySelector('#' + key + ' button');\n",
              "          quickchartButtonEl.disabled = true;  // To prevent multiple clicks.\n",
              "          quickchartButtonEl.classList.add('colab-df-spinner');\n",
              "          try {\n",
              "            const charts = await google.colab.kernel.invokeFunction(\n",
              "                'suggestCharts', [key], {});\n",
              "          } catch (error) {\n",
              "            console.error('Error during call to suggestCharts:', error);\n",
              "          }\n",
              "          quickchartButtonEl.classList.remove('colab-df-spinner');\n",
              "          quickchartButtonEl.classList.add('colab-df-quickchart-complete');\n",
              "        }\n",
              "        (() => {\n",
              "          let quickchartButtonEl =\n",
              "            document.querySelector('#df-e1b8b733-8c01-4ac2-a734-fe9c35620f5f button');\n",
              "          quickchartButtonEl.style.display =\n",
              "            google.colab.kernel.accessAllowed ? 'block' : 'none';\n",
              "        })();\n",
              "      </script>\n",
              "    </div>\n",
              "\n",
              "    </div>\n",
              "  </div>\n"
            ],
            "application/vnd.google.colaboratory.intrinsic+json": {
              "type": "dataframe",
              "variable_name": "data"
            }
          },
          "metadata": {},
          "execution_count": 39
        }
      ]
    },
    {
      "cell_type": "code",
      "execution_count": 22,
      "metadata": {
        "id": "gptfgwSQKdDK",
        "colab": {
          "base_uri": "https://localhost:8080/",
          "height": 236
        },
        "outputId": "51967ffd-eb20-49cf-af95-65cfe84d12fa"
      },
      "outputs": [
        {
          "output_type": "execute_result",
          "data": {
            "text/plain": [
              "        ID  ITEMCODE                         ITEMNAME  FICHENO      DATE_  \\\n",
              "0  11738.0    5863.0  SPRITE 1 LT LIMON AROMALI GAZOZ    18456 2017-01-07   \n",
              "1  10537.0       8.0                        TOZ SEKER    18105 2017-01-06   \n",
              "\n",
              "   AMOUNT  PRICE  LINENETTOTAL  LINENET  BRANCHNR          BRANCH  \\\n",
              "0     1.0   2.00          2.00     1.85      52.0  Kocaeli Subesi   \n",
              "1     5.0   2.65         13.25    12.27       8.0  Antalya Subesi   \n",
              "\n",
              "       SALESMAN     CITY   REGION  LATITUDE  LONGITUDE CLIENTCODE  \\\n",
              "0     Eyüp CİNE  Kocaeli  Marmara   40.8533    29.8815     467369   \n",
              "1  İlhan ÖRENLİ  Antalya  Akdeniz   36.8841    30.7056     131464   \n",
              "\n",
              "       CLIENTNAME BRANDCODE   BRAND CATEGORY_NAME1 CATEGORY_NAME2  \\\n",
              "0  Sercan KIZILOK       156  SPRİTE         İÇECEK   GAZLI İÇECEK   \n",
              "1    İsmet ŞINGIR       NaN     NaN         İÇECEK      ÇAY KAHVE   \n",
              "\n",
              "       CATEGORY_NAME3           STARTDATE             ENDDATE GENDER  \n",
              "0               GAZOZ 2017-01-08 16:16:11 2017-01-08 16:17:13      E  \n",
              "1  SEKER TATLANDIRICI 2017-01-07 11:04:34 2017-01-07 11:05:37      E  "
            ],
            "text/html": [
              "\n",
              "  <div id=\"df-bb748ea2-270a-4d39-a7c8-810eef888755\" class=\"colab-df-container\">\n",
              "    <div>\n",
              "<style scoped>\n",
              "    .dataframe tbody tr th:only-of-type {\n",
              "        vertical-align: middle;\n",
              "    }\n",
              "\n",
              "    .dataframe tbody tr th {\n",
              "        vertical-align: top;\n",
              "    }\n",
              "\n",
              "    .dataframe thead th {\n",
              "        text-align: right;\n",
              "    }\n",
              "</style>\n",
              "<table border=\"1\" class=\"dataframe\">\n",
              "  <thead>\n",
              "    <tr style=\"text-align: right;\">\n",
              "      <th></th>\n",
              "      <th>ID</th>\n",
              "      <th>ITEMCODE</th>\n",
              "      <th>ITEMNAME</th>\n",
              "      <th>FICHENO</th>\n",
              "      <th>DATE_</th>\n",
              "      <th>AMOUNT</th>\n",
              "      <th>PRICE</th>\n",
              "      <th>LINENETTOTAL</th>\n",
              "      <th>LINENET</th>\n",
              "      <th>BRANCHNR</th>\n",
              "      <th>BRANCH</th>\n",
              "      <th>SALESMAN</th>\n",
              "      <th>CITY</th>\n",
              "      <th>REGION</th>\n",
              "      <th>LATITUDE</th>\n",
              "      <th>LONGITUDE</th>\n",
              "      <th>CLIENTCODE</th>\n",
              "      <th>CLIENTNAME</th>\n",
              "      <th>BRANDCODE</th>\n",
              "      <th>BRAND</th>\n",
              "      <th>CATEGORY_NAME1</th>\n",
              "      <th>CATEGORY_NAME2</th>\n",
              "      <th>CATEGORY_NAME3</th>\n",
              "      <th>STARTDATE</th>\n",
              "      <th>ENDDATE</th>\n",
              "      <th>GENDER</th>\n",
              "    </tr>\n",
              "  </thead>\n",
              "  <tbody>\n",
              "    <tr>\n",
              "      <th>0</th>\n",
              "      <td>11738.0</td>\n",
              "      <td>5863.0</td>\n",
              "      <td>SPRITE 1 LT LIMON AROMALI GAZOZ</td>\n",
              "      <td>18456</td>\n",
              "      <td>2017-01-07</td>\n",
              "      <td>1.0</td>\n",
              "      <td>2.00</td>\n",
              "      <td>2.00</td>\n",
              "      <td>1.85</td>\n",
              "      <td>52.0</td>\n",
              "      <td>Kocaeli Subesi</td>\n",
              "      <td>Eyüp CİNE</td>\n",
              "      <td>Kocaeli</td>\n",
              "      <td>Marmara</td>\n",
              "      <td>40.8533</td>\n",
              "      <td>29.8815</td>\n",
              "      <td>467369</td>\n",
              "      <td>Sercan KIZILOK</td>\n",
              "      <td>156</td>\n",
              "      <td>SPRİTE</td>\n",
              "      <td>İÇECEK</td>\n",
              "      <td>GAZLI İÇECEK</td>\n",
              "      <td>GAZOZ</td>\n",
              "      <td>2017-01-08 16:16:11</td>\n",
              "      <td>2017-01-08 16:17:13</td>\n",
              "      <td>E</td>\n",
              "    </tr>\n",
              "    <tr>\n",
              "      <th>1</th>\n",
              "      <td>10537.0</td>\n",
              "      <td>8.0</td>\n",
              "      <td>TOZ SEKER</td>\n",
              "      <td>18105</td>\n",
              "      <td>2017-01-06</td>\n",
              "      <td>5.0</td>\n",
              "      <td>2.65</td>\n",
              "      <td>13.25</td>\n",
              "      <td>12.27</td>\n",
              "      <td>8.0</td>\n",
              "      <td>Antalya Subesi</td>\n",
              "      <td>İlhan ÖRENLİ</td>\n",
              "      <td>Antalya</td>\n",
              "      <td>Akdeniz</td>\n",
              "      <td>36.8841</td>\n",
              "      <td>30.7056</td>\n",
              "      <td>131464</td>\n",
              "      <td>İsmet ŞINGIR</td>\n",
              "      <td>NaN</td>\n",
              "      <td>NaN</td>\n",
              "      <td>İÇECEK</td>\n",
              "      <td>ÇAY KAHVE</td>\n",
              "      <td>SEKER TATLANDIRICI</td>\n",
              "      <td>2017-01-07 11:04:34</td>\n",
              "      <td>2017-01-07 11:05:37</td>\n",
              "      <td>E</td>\n",
              "    </tr>\n",
              "  </tbody>\n",
              "</table>\n",
              "</div>\n",
              "    <div class=\"colab-df-buttons\">\n",
              "\n",
              "  <div class=\"colab-df-container\">\n",
              "    <button class=\"colab-df-convert\" onclick=\"convertToInteractive('df-bb748ea2-270a-4d39-a7c8-810eef888755')\"\n",
              "            title=\"Convert this dataframe to an interactive table.\"\n",
              "            style=\"display:none;\">\n",
              "\n",
              "  <svg xmlns=\"http://www.w3.org/2000/svg\" height=\"24px\" viewBox=\"0 -960 960 960\">\n",
              "    <path d=\"M120-120v-720h720v720H120Zm60-500h600v-160H180v160Zm220 220h160v-160H400v160Zm0 220h160v-160H400v160ZM180-400h160v-160H180v160Zm440 0h160v-160H620v160ZM180-180h160v-160H180v160Zm440 0h160v-160H620v160Z\"/>\n",
              "  </svg>\n",
              "    </button>\n",
              "\n",
              "  <style>\n",
              "    .colab-df-container {\n",
              "      display:flex;\n",
              "      gap: 12px;\n",
              "    }\n",
              "\n",
              "    .colab-df-convert {\n",
              "      background-color: #E8F0FE;\n",
              "      border: none;\n",
              "      border-radius: 50%;\n",
              "      cursor: pointer;\n",
              "      display: none;\n",
              "      fill: #1967D2;\n",
              "      height: 32px;\n",
              "      padding: 0 0 0 0;\n",
              "      width: 32px;\n",
              "    }\n",
              "\n",
              "    .colab-df-convert:hover {\n",
              "      background-color: #E2EBFA;\n",
              "      box-shadow: 0px 1px 2px rgba(60, 64, 67, 0.3), 0px 1px 3px 1px rgba(60, 64, 67, 0.15);\n",
              "      fill: #174EA6;\n",
              "    }\n",
              "\n",
              "    .colab-df-buttons div {\n",
              "      margin-bottom: 4px;\n",
              "    }\n",
              "\n",
              "    [theme=dark] .colab-df-convert {\n",
              "      background-color: #3B4455;\n",
              "      fill: #D2E3FC;\n",
              "    }\n",
              "\n",
              "    [theme=dark] .colab-df-convert:hover {\n",
              "      background-color: #434B5C;\n",
              "      box-shadow: 0px 1px 3px 1px rgba(0, 0, 0, 0.15);\n",
              "      filter: drop-shadow(0px 1px 2px rgba(0, 0, 0, 0.3));\n",
              "      fill: #FFFFFF;\n",
              "    }\n",
              "  </style>\n",
              "\n",
              "    <script>\n",
              "      const buttonEl =\n",
              "        document.querySelector('#df-bb748ea2-270a-4d39-a7c8-810eef888755 button.colab-df-convert');\n",
              "      buttonEl.style.display =\n",
              "        google.colab.kernel.accessAllowed ? 'block' : 'none';\n",
              "\n",
              "      async function convertToInteractive(key) {\n",
              "        const element = document.querySelector('#df-bb748ea2-270a-4d39-a7c8-810eef888755');\n",
              "        const dataTable =\n",
              "          await google.colab.kernel.invokeFunction('convertToInteractive',\n",
              "                                                    [key], {});\n",
              "        if (!dataTable) return;\n",
              "\n",
              "        const docLinkHtml = 'Like what you see? Visit the ' +\n",
              "          '<a target=\"_blank\" href=https://colab.research.google.com/notebooks/data_table.ipynb>data table notebook</a>'\n",
              "          + ' to learn more about interactive tables.';\n",
              "        element.innerHTML = '';\n",
              "        dataTable['output_type'] = 'display_data';\n",
              "        await google.colab.output.renderOutput(dataTable, element);\n",
              "        const docLink = document.createElement('div');\n",
              "        docLink.innerHTML = docLinkHtml;\n",
              "        element.appendChild(docLink);\n",
              "      }\n",
              "    </script>\n",
              "  </div>\n",
              "\n",
              "\n",
              "    <div id=\"df-81ebbba3-4562-4e43-9d9e-f753e997b66f\">\n",
              "      <button class=\"colab-df-quickchart\" onclick=\"quickchart('df-81ebbba3-4562-4e43-9d9e-f753e997b66f')\"\n",
              "                title=\"Suggest charts\"\n",
              "                style=\"display:none;\">\n",
              "\n",
              "<svg xmlns=\"http://www.w3.org/2000/svg\" height=\"24px\"viewBox=\"0 0 24 24\"\n",
              "     width=\"24px\">\n",
              "    <g>\n",
              "        <path d=\"M19 3H5c-1.1 0-2 .9-2 2v14c0 1.1.9 2 2 2h14c1.1 0 2-.9 2-2V5c0-1.1-.9-2-2-2zM9 17H7v-7h2v7zm4 0h-2V7h2v10zm4 0h-2v-4h2v4z\"/>\n",
              "    </g>\n",
              "</svg>\n",
              "      </button>\n",
              "\n",
              "<style>\n",
              "  .colab-df-quickchart {\n",
              "      --bg-color: #E8F0FE;\n",
              "      --fill-color: #1967D2;\n",
              "      --hover-bg-color: #E2EBFA;\n",
              "      --hover-fill-color: #174EA6;\n",
              "      --disabled-fill-color: #AAA;\n",
              "      --disabled-bg-color: #DDD;\n",
              "  }\n",
              "\n",
              "  [theme=dark] .colab-df-quickchart {\n",
              "      --bg-color: #3B4455;\n",
              "      --fill-color: #D2E3FC;\n",
              "      --hover-bg-color: #434B5C;\n",
              "      --hover-fill-color: #FFFFFF;\n",
              "      --disabled-bg-color: #3B4455;\n",
              "      --disabled-fill-color: #666;\n",
              "  }\n",
              "\n",
              "  .colab-df-quickchart {\n",
              "    background-color: var(--bg-color);\n",
              "    border: none;\n",
              "    border-radius: 50%;\n",
              "    cursor: pointer;\n",
              "    display: none;\n",
              "    fill: var(--fill-color);\n",
              "    height: 32px;\n",
              "    padding: 0;\n",
              "    width: 32px;\n",
              "  }\n",
              "\n",
              "  .colab-df-quickchart:hover {\n",
              "    background-color: var(--hover-bg-color);\n",
              "    box-shadow: 0 1px 2px rgba(60, 64, 67, 0.3), 0 1px 3px 1px rgba(60, 64, 67, 0.15);\n",
              "    fill: var(--button-hover-fill-color);\n",
              "  }\n",
              "\n",
              "  .colab-df-quickchart-complete:disabled,\n",
              "  .colab-df-quickchart-complete:disabled:hover {\n",
              "    background-color: var(--disabled-bg-color);\n",
              "    fill: var(--disabled-fill-color);\n",
              "    box-shadow: none;\n",
              "  }\n",
              "\n",
              "  .colab-df-spinner {\n",
              "    border: 2px solid var(--fill-color);\n",
              "    border-color: transparent;\n",
              "    border-bottom-color: var(--fill-color);\n",
              "    animation:\n",
              "      spin 1s steps(1) infinite;\n",
              "  }\n",
              "\n",
              "  @keyframes spin {\n",
              "    0% {\n",
              "      border-color: transparent;\n",
              "      border-bottom-color: var(--fill-color);\n",
              "      border-left-color: var(--fill-color);\n",
              "    }\n",
              "    20% {\n",
              "      border-color: transparent;\n",
              "      border-left-color: var(--fill-color);\n",
              "      border-top-color: var(--fill-color);\n",
              "    }\n",
              "    30% {\n",
              "      border-color: transparent;\n",
              "      border-left-color: var(--fill-color);\n",
              "      border-top-color: var(--fill-color);\n",
              "      border-right-color: var(--fill-color);\n",
              "    }\n",
              "    40% {\n",
              "      border-color: transparent;\n",
              "      border-right-color: var(--fill-color);\n",
              "      border-top-color: var(--fill-color);\n",
              "    }\n",
              "    60% {\n",
              "      border-color: transparent;\n",
              "      border-right-color: var(--fill-color);\n",
              "    }\n",
              "    80% {\n",
              "      border-color: transparent;\n",
              "      border-right-color: var(--fill-color);\n",
              "      border-bottom-color: var(--fill-color);\n",
              "    }\n",
              "    90% {\n",
              "      border-color: transparent;\n",
              "      border-bottom-color: var(--fill-color);\n",
              "    }\n",
              "  }\n",
              "</style>\n",
              "\n",
              "      <script>\n",
              "        async function quickchart(key) {\n",
              "          const quickchartButtonEl =\n",
              "            document.querySelector('#' + key + ' button');\n",
              "          quickchartButtonEl.disabled = true;  // To prevent multiple clicks.\n",
              "          quickchartButtonEl.classList.add('colab-df-spinner');\n",
              "          try {\n",
              "            const charts = await google.colab.kernel.invokeFunction(\n",
              "                'suggestCharts', [key], {});\n",
              "          } catch (error) {\n",
              "            console.error('Error during call to suggestCharts:', error);\n",
              "          }\n",
              "          quickchartButtonEl.classList.remove('colab-df-spinner');\n",
              "          quickchartButtonEl.classList.add('colab-df-quickchart-complete');\n",
              "        }\n",
              "        (() => {\n",
              "          let quickchartButtonEl =\n",
              "            document.querySelector('#df-81ebbba3-4562-4e43-9d9e-f753e997b66f button');\n",
              "          quickchartButtonEl.style.display =\n",
              "            google.colab.kernel.accessAllowed ? 'block' : 'none';\n",
              "        })();\n",
              "      </script>\n",
              "    </div>\n",
              "\n",
              "    </div>\n",
              "  </div>\n"
            ],
            "application/vnd.google.colaboratory.intrinsic+json": {
              "type": "dataframe",
              "variable_name": "data"
            }
          },
          "metadata": {},
          "execution_count": 22
        }
      ],
      "source": [
        "data.head(2)"
      ]
    },
    {
      "cell_type": "markdown",
      "metadata": {
        "id": "Um5vuQIwKdDK"
      },
      "source": [
        "### 3- Verisetinin Orjinalınde değişiklik gelmemesei için veriyi başka bir değişkene atayın"
      ]
    },
    {
      "cell_type": "code",
      "source": [
        "data_kopya = data.copy()\n",
        "\n",
        "print(data_kopya.head())"
      ],
      "metadata": {
        "id": "6npKpr-sbY9p",
        "colab": {
          "base_uri": "https://localhost:8080/"
        },
        "outputId": "b9f91156-01a7-409c-bcdc-422713c54fc3"
      },
      "execution_count": 24,
      "outputs": [
        {
          "output_type": "stream",
          "name": "stdout",
          "text": [
            "        ID  ITEMCODE                         ITEMNAME  FICHENO      DATE_  \\\n",
            "0  11738.0    5863.0  SPRITE 1 LT LIMON AROMALI GAZOZ    18456 2017-01-07   \n",
            "1  10537.0       8.0                        TOZ SEKER    18105 2017-01-06   \n",
            "2  11335.0    5979.0             FALIM SAKIZ 5LI NANE    18350 2017-01-03   \n",
            "3  11336.0    5979.0             FALIM SAKIZ 5LI NANE    18350 2017-01-03   \n",
            "4  10115.0   12808.0            FALIM SAKIZ 5LI CILEK    18005 2017-01-05   \n",
            "\n",
            "   AMOUNT  PRICE  LINENETTOTAL  LINENET  BRANCHNR           BRANCH  \\\n",
            "0     1.0   2.00          2.00     1.85      52.0   Kocaeli Subesi   \n",
            "1     5.0   2.65         13.25    12.27       8.0   Antalya Subesi   \n",
            "2     1.0   0.40          0.40     0.37      40.0  İstanbul Subesi   \n",
            "3     1.0   0.40          0.40     0.37      40.0  İstanbul Subesi   \n",
            "4     1.0   0.40          0.40     0.37      41.0     İzmir Subesi   \n",
            "\n",
            "       SALESMAN      CITY   REGION  LATITUDE  LONGITUDE CLIENTCODE  \\\n",
            "0     Eyüp CİNE   Kocaeli  Marmara   40.8533    29.8815     467369   \n",
            "1  İlhan ÖRENLİ   Antalya  Akdeniz   36.8841    30.7056     131464   \n",
            "2  İsmet SARTIK  İstanbul  Marmara   41.0053    28.9770     656969   \n",
            "3  İsmet SARTIK  İstanbul  Marmara   41.0053    28.9770     656969   \n",
            "4  Gülten IŞLAK     İzmir      Ege   38.4189    27.1287     447336   \n",
            "\n",
            "       CLIENTNAME BRANDCODE   BRAND CATEGORY_NAME1   CATEGORY_NAME2  \\\n",
            "0  Sercan KIZILOK       156  SPRİTE         İÇECEK     GAZLI İÇECEK   \n",
            "1    İsmet ŞINGIR       NaN     NaN         İÇECEK        ÇAY KAHVE   \n",
            "2     Yağız KUBAL       300   FALIM           GIDA  SAKIZ SEKERLEME   \n",
            "3     Yağız KUBAL       300   FALIM           GIDA  SAKIZ SEKERLEME   \n",
            "4    Habibe AYSAN       300   FALIM           GIDA  SAKIZ SEKERLEME   \n",
            "\n",
            "       CATEGORY_NAME3           STARTDATE             ENDDATE GENDER  \n",
            "0               GAZOZ 2017-01-08 16:16:11 2017-01-08 16:17:13      E  \n",
            "1  SEKER TATLANDIRICI 2017-01-07 11:04:34 2017-01-07 11:05:37      E  \n",
            "2               SAKIZ 2017-01-04 14:00:03 2017-01-04 14:01:01      E  \n",
            "3               SAKIZ 2017-01-04 14:00:03 2017-01-04 14:01:01      E  \n",
            "4               SAKIZ 2017-01-06 14:00:30 2017-01-06 14:01:03      K  \n"
          ]
        }
      ]
    },
    {
      "cell_type": "markdown",
      "metadata": {
        "id": "f3h7UlgvKdDK"
      },
      "source": [
        "### 4-Verisetinin Boyutlarına bulunuz"
      ]
    },
    {
      "cell_type": "code",
      "source": [
        "boyutlar = data.shape\n",
        "\n",
        "print(f\"Verisetinin Boyutları: {boyutlar}\")\n",
        "print(f\"Satır Sayısı: {boyutlar[0]}\")\n",
        "print(f\"Sütun Sayısı: {boyutlar[1]}\")"
      ],
      "metadata": {
        "id": "b_N9k2_lbZs9",
        "colab": {
          "base_uri": "https://localhost:8080/"
        },
        "outputId": "3d33aa76-49f6-4dda-8007-ee3ba694e9c8"
      },
      "execution_count": 25,
      "outputs": [
        {
          "output_type": "stream",
          "name": "stdout",
          "text": [
            "Verisetinin Boyutları: (611108, 26)\n",
            "Satır Sayısı: 611108\n",
            "Sütun Sayısı: 26\n"
          ]
        }
      ]
    },
    {
      "cell_type": "markdown",
      "metadata": {
        "id": "nfW3_CSoKdDL"
      },
      "source": [
        "### 5-Verisetinin Sutunlarının İsimlerini Yazdırın"
      ]
    },
    {
      "cell_type": "code",
      "source": [
        "sutun_isimleri = data.columns\n",
        "\n",
        "print(\"Verisetinin Sütunların İsimleri:\")\n",
        "print(sutun_isimleri)"
      ],
      "metadata": {
        "id": "bsAbI0PNbawL",
        "colab": {
          "base_uri": "https://localhost:8080/"
        },
        "outputId": "c2e6a74a-3ab0-402e-901c-e0266c6ad39b"
      },
      "execution_count": 27,
      "outputs": [
        {
          "output_type": "stream",
          "name": "stdout",
          "text": [
            "Verisetinin Sütunların İsimleri:\n",
            "Index(['ID', 'ITEMCODE', 'ITEMNAME', 'FICHENO', 'DATE_', 'AMOUNT', 'PRICE',\n",
            "       'LINENETTOTAL', 'LINENET', 'BRANCHNR', 'BRANCH', 'SALESMAN', 'CITY',\n",
            "       'REGION', 'LATITUDE', 'LONGITUDE', 'CLIENTCODE', 'CLIENTNAME',\n",
            "       'BRANDCODE', 'BRAND', 'CATEGORY_NAME1', 'CATEGORY_NAME2',\n",
            "       'CATEGORY_NAME3', 'STARTDATE', 'ENDDATE', 'GENDER'],\n",
            "      dtype='object')\n"
          ]
        }
      ]
    },
    {
      "cell_type": "markdown",
      "metadata": {
        "id": "bptBn-UWKdDL"
      },
      "source": [
        "### 6- Veri setinin bilgilerine ulaşılması"
      ]
    },
    {
      "cell_type": "code",
      "source": [
        "print(data.info())"
      ],
      "metadata": {
        "id": "85eIrov9bb8R",
        "colab": {
          "base_uri": "https://localhost:8080/"
        },
        "outputId": "8b223384-662a-49b9-cdc1-6d87ec3894ac"
      },
      "execution_count": 28,
      "outputs": [
        {
          "output_type": "stream",
          "name": "stdout",
          "text": [
            "<class 'pandas.core.frame.DataFrame'>\n",
            "RangeIndex: 611108 entries, 0 to 611107\n",
            "Data columns (total 26 columns):\n",
            " #   Column          Non-Null Count   Dtype         \n",
            "---  ------          --------------   -----         \n",
            " 0   ID              611107 non-null  float64       \n",
            " 1   ITEMCODE        603941 non-null  float64       \n",
            " 2   ITEMNAME        603941 non-null  object        \n",
            " 3   FICHENO         611108 non-null  int64         \n",
            " 4   DATE_           611107 non-null  datetime64[ns]\n",
            " 5   AMOUNT          611107 non-null  float64       \n",
            " 6   PRICE           611107 non-null  float64       \n",
            " 7   LINENETTOTAL    611107 non-null  float64       \n",
            " 8   LINENET         611107 non-null  float64       \n",
            " 9   BRANCHNR        611107 non-null  float64       \n",
            " 10  BRANCH          611107 non-null  object        \n",
            " 11  SALESMAN        611108 non-null  object        \n",
            " 12  CITY            611107 non-null  object        \n",
            " 13  REGION          611107 non-null  object        \n",
            " 14  LATITUDE        611107 non-null  float64       \n",
            " 15  LONGITUDE       611107 non-null  float64       \n",
            " 16  CLIENTCODE      592760 non-null  object        \n",
            " 17  CLIENTNAME      592743 non-null  object        \n",
            " 18  BRANDCODE       575551 non-null  object        \n",
            " 19  BRAND           575551 non-null  object        \n",
            " 20  CATEGORY_NAME1  603941 non-null  object        \n",
            " 21  CATEGORY_NAME2  583448 non-null  object        \n",
            " 22  CATEGORY_NAME3  401649 non-null  object        \n",
            " 23  STARTDATE       611108 non-null  datetime64[ns]\n",
            " 24  ENDDATE         611108 non-null  datetime64[ns]\n",
            " 25  GENDER          592743 non-null  object        \n",
            "dtypes: datetime64[ns](3), float64(9), int64(1), object(13)\n",
            "memory usage: 121.2+ MB\n",
            "None\n"
          ]
        }
      ]
    },
    {
      "cell_type": "markdown",
      "metadata": {
        "id": "m1WLrGyjKdDL"
      },
      "source": [
        "### 7- Veri Setinde Boş Değer Varmı sorgulanması"
      ]
    },
    {
      "cell_type": "code",
      "source": [
        "print(data.isnull().sum())"
      ],
      "metadata": {
        "id": "PK9QFSIFbdJl",
        "colab": {
          "base_uri": "https://localhost:8080/"
        },
        "outputId": "a5c60c7d-7ac7-40a5-9727-9528d7520dc6"
      },
      "execution_count": 29,
      "outputs": [
        {
          "output_type": "stream",
          "name": "stdout",
          "text": [
            "ID                     1\n",
            "ITEMCODE            7167\n",
            "ITEMNAME            7167\n",
            "FICHENO                0\n",
            "DATE_                  1\n",
            "AMOUNT                 1\n",
            "PRICE                  1\n",
            "LINENETTOTAL           1\n",
            "LINENET                1\n",
            "BRANCHNR               1\n",
            "BRANCH                 1\n",
            "SALESMAN               0\n",
            "CITY                   1\n",
            "REGION                 1\n",
            "LATITUDE               1\n",
            "LONGITUDE              1\n",
            "CLIENTCODE         18348\n",
            "CLIENTNAME         18365\n",
            "BRANDCODE          35557\n",
            "BRAND              35557\n",
            "CATEGORY_NAME1      7167\n",
            "CATEGORY_NAME2     27660\n",
            "CATEGORY_NAME3    209459\n",
            "STARTDATE              0\n",
            "ENDDATE                0\n",
            "GENDER             18365\n",
            "dtype: int64\n"
          ]
        }
      ]
    },
    {
      "cell_type": "markdown",
      "metadata": {
        "id": "dWFLNHnkKdDL"
      },
      "source": [
        "### 8- Verisetindeki Sutunlarda Toplam Kaç Adet Değer Var Bulunuz"
      ]
    },
    {
      "cell_type": "code",
      "source": [
        "print(data.count())"
      ],
      "metadata": {
        "id": "Xebc6rVhbeRN",
        "colab": {
          "base_uri": "https://localhost:8080/"
        },
        "outputId": "1cdae186-5abe-45d6-fad2-bfba7b4284d6"
      },
      "execution_count": 30,
      "outputs": [
        {
          "output_type": "stream",
          "name": "stdout",
          "text": [
            "ID                611107\n",
            "ITEMCODE          603941\n",
            "ITEMNAME          603941\n",
            "FICHENO           611108\n",
            "DATE_             611107\n",
            "AMOUNT            611107\n",
            "PRICE             611107\n",
            "LINENETTOTAL      611107\n",
            "LINENET           611107\n",
            "BRANCHNR          611107\n",
            "BRANCH            611107\n",
            "SALESMAN          611108\n",
            "CITY              611107\n",
            "REGION            611107\n",
            "LATITUDE          611107\n",
            "LONGITUDE         611107\n",
            "CLIENTCODE        592760\n",
            "CLIENTNAME        592743\n",
            "BRANDCODE         575551\n",
            "BRAND             575551\n",
            "CATEGORY_NAME1    603941\n",
            "CATEGORY_NAME2    583448\n",
            "CATEGORY_NAME3    401649\n",
            "STARTDATE         611108\n",
            "ENDDATE           611108\n",
            "GENDER            592743\n",
            "dtype: int64\n"
          ]
        }
      ]
    },
    {
      "cell_type": "markdown",
      "metadata": {
        "id": "reasmdptKdDL"
      },
      "source": [
        "### 9- Verisetinde Toplam Kaç Adet Değer Var Bulunuz"
      ]
    },
    {
      "cell_type": "code",
      "source": [
        "print(data.count().sum())"
      ],
      "metadata": {
        "id": "Z3eb1ioVbfJh",
        "colab": {
          "base_uri": "https://localhost:8080/"
        },
        "outputId": "ba32474f-ad05-48e6-9096-62661d23799a"
      },
      "execution_count": 31,
      "outputs": [
        {
          "output_type": "stream",
          "name": "stdout",
          "text": [
            "15503984\n"
          ]
        }
      ]
    },
    {
      "cell_type": "markdown",
      "metadata": {
        "id": "49l1ia6vKdDM"
      },
      "source": [
        "### 10- Verisetinde Boş Değer Olan Sutunların İsimlerini yazdıralım"
      ]
    },
    {
      "cell_type": "code",
      "source": [
        "bos_deger_sayilari = data.isnull().sum()\n",
        "\n",
        "bos_degerli_sutunlar = bos_deger_sayilari[bos_deger_sayilari > 0]\n",
        "\n",
        "print(\"Boş değer içeren sütunların isimleri:\")\n",
        "print(list(bos_degerli_sutunlar.index))"
      ],
      "metadata": {
        "id": "R_XbKN4vbgcx",
        "colab": {
          "base_uri": "https://localhost:8080/"
        },
        "outputId": "0ab4a495-ea8e-4bf2-9b85-2fab7f52812d"
      },
      "execution_count": 33,
      "outputs": [
        {
          "output_type": "stream",
          "name": "stdout",
          "text": [
            "Boş değer içeren sütunların isimleri:\n",
            "['ID', 'ITEMCODE', 'ITEMNAME', 'DATE_', 'AMOUNT', 'PRICE', 'LINENETTOTAL', 'LINENET', 'BRANCHNR', 'BRANCH', 'CITY', 'REGION', 'LATITUDE', 'LONGITUDE', 'CLIENTCODE', 'CLIENTNAME', 'BRANDCODE', 'BRAND', 'CATEGORY_NAME1', 'CATEGORY_NAME2', 'CATEGORY_NAME3', 'GENDER']\n"
          ]
        }
      ]
    },
    {
      "cell_type": "markdown",
      "metadata": {
        "id": "s-eT195SKdDM"
      },
      "source": [
        "### 11-Verisetinin Sutunlarında Kaç farklı Tip var Onu Bulalım"
      ]
    },
    {
      "cell_type": "code",
      "source": [
        "veri_tipleri = data.dtypes\n",
        "\n",
        "farkli_tip_sayisi = veri_tipleri.nunique()\n",
        "\n",
        "print(veri_tipleri.value_counts())"
      ],
      "metadata": {
        "id": "SB34Ww2lbiQh",
        "colab": {
          "base_uri": "https://localhost:8080/"
        },
        "outputId": "0deab673-9acf-48a1-8533-e7d048887676"
      },
      "execution_count": 35,
      "outputs": [
        {
          "output_type": "stream",
          "name": "stdout",
          "text": [
            "object            13\n",
            "float64            9\n",
            "datetime64[ns]     3\n",
            "int64              1\n",
            "Name: count, dtype: int64\n"
          ]
        }
      ]
    },
    {
      "cell_type": "markdown",
      "metadata": {
        "id": "x963H1uPKdDM"
      },
      "source": [
        "### 12- Verisetinin Sutunlarındaki Eşsiz Tipler Nelerdir Onlara Bakalım"
      ]
    },
    {
      "cell_type": "code",
      "source": [
        "veri_tipleri = data.dtypes\n",
        "\n",
        "essiz_tipler = veri_tipleri.unique()\n",
        "\n",
        "print(\"Veri setindeki Sütunlarda Bulunan Eşsiz Tipler:\")\n",
        "print(essiz_tipler)"
      ],
      "metadata": {
        "id": "Lu-lxjvJbj9-",
        "colab": {
          "base_uri": "https://localhost:8080/"
        },
        "outputId": "748972ba-5cef-48f6-91d1-bd859970496f"
      },
      "execution_count": 36,
      "outputs": [
        {
          "output_type": "stream",
          "name": "stdout",
          "text": [
            "Veri setindeki Sütunlarda Bulunan Eşsiz Tipler:\n",
            "[dtype('float64') dtype('O') dtype('int64') dtype('<M8[ns]')]\n"
          ]
        }
      ]
    },
    {
      "cell_type": "markdown",
      "metadata": {
        "id": "8fe1ThNmKdDM"
      },
      "source": [
        "### 13-Verisetinin İlk 5 Satırını Yazdıralım"
      ]
    },
    {
      "cell_type": "code",
      "source": [
        "print(data.head())"
      ],
      "metadata": {
        "id": "ghhKnIPKbljt",
        "colab": {
          "base_uri": "https://localhost:8080/"
        },
        "outputId": "7e27ffe6-d0c2-4e29-a0ce-0cbfd434c1a0"
      },
      "execution_count": 37,
      "outputs": [
        {
          "output_type": "stream",
          "name": "stdout",
          "text": [
            "        ID  ITEMCODE                         ITEMNAME  FICHENO      DATE_  \\\n",
            "0  11738.0    5863.0  SPRITE 1 LT LIMON AROMALI GAZOZ    18456 2017-01-07   \n",
            "1  10537.0       8.0                        TOZ SEKER    18105 2017-01-06   \n",
            "2  11335.0    5979.0             FALIM SAKIZ 5LI NANE    18350 2017-01-03   \n",
            "3  11336.0    5979.0             FALIM SAKIZ 5LI NANE    18350 2017-01-03   \n",
            "4  10115.0   12808.0            FALIM SAKIZ 5LI CILEK    18005 2017-01-05   \n",
            "\n",
            "   AMOUNT  PRICE  LINENETTOTAL  LINENET  BRANCHNR           BRANCH  \\\n",
            "0     1.0   2.00          2.00     1.85      52.0   Kocaeli Subesi   \n",
            "1     5.0   2.65         13.25    12.27       8.0   Antalya Subesi   \n",
            "2     1.0   0.40          0.40     0.37      40.0  İstanbul Subesi   \n",
            "3     1.0   0.40          0.40     0.37      40.0  İstanbul Subesi   \n",
            "4     1.0   0.40          0.40     0.37      41.0     İzmir Subesi   \n",
            "\n",
            "       SALESMAN      CITY   REGION  LATITUDE  LONGITUDE CLIENTCODE  \\\n",
            "0     Eyüp CİNE   Kocaeli  Marmara   40.8533    29.8815     467369   \n",
            "1  İlhan ÖRENLİ   Antalya  Akdeniz   36.8841    30.7056     131464   \n",
            "2  İsmet SARTIK  İstanbul  Marmara   41.0053    28.9770     656969   \n",
            "3  İsmet SARTIK  İstanbul  Marmara   41.0053    28.9770     656969   \n",
            "4  Gülten IŞLAK     İzmir      Ege   38.4189    27.1287     447336   \n",
            "\n",
            "       CLIENTNAME BRANDCODE   BRAND CATEGORY_NAME1   CATEGORY_NAME2  \\\n",
            "0  Sercan KIZILOK       156  SPRİTE         İÇECEK     GAZLI İÇECEK   \n",
            "1    İsmet ŞINGIR       NaN     NaN         İÇECEK        ÇAY KAHVE   \n",
            "2     Yağız KUBAL       300   FALIM           GIDA  SAKIZ SEKERLEME   \n",
            "3     Yağız KUBAL       300   FALIM           GIDA  SAKIZ SEKERLEME   \n",
            "4    Habibe AYSAN       300   FALIM           GIDA  SAKIZ SEKERLEME   \n",
            "\n",
            "       CATEGORY_NAME3           STARTDATE             ENDDATE GENDER  \n",
            "0               GAZOZ 2017-01-08 16:16:11 2017-01-08 16:17:13      E  \n",
            "1  SEKER TATLANDIRICI 2017-01-07 11:04:34 2017-01-07 11:05:37      E  \n",
            "2               SAKIZ 2017-01-04 14:00:03 2017-01-04 14:01:01      E  \n",
            "3               SAKIZ 2017-01-04 14:00:03 2017-01-04 14:01:01      E  \n",
            "4               SAKIZ 2017-01-06 14:00:30 2017-01-06 14:01:03      K  \n"
          ]
        }
      ]
    },
    {
      "cell_type": "markdown",
      "metadata": {
        "id": "xj4vrYixKdDM"
      },
      "source": [
        "### 14-Verisetinin son 7 Satırını Yazdıralım"
      ]
    },
    {
      "cell_type": "code",
      "source": [
        "print(data.tail(7))"
      ],
      "metadata": {
        "id": "OzEJwSz9bnCN",
        "colab": {
          "base_uri": "https://localhost:8080/"
        },
        "outputId": "92b203d0-ca14-4ad1-9b6d-3363035e00f2"
      },
      "execution_count": 40,
      "outputs": [
        {
          "output_type": "stream",
          "name": "stdout",
          "text": [
            "              ID  ITEMCODE                  ITEMNAME  FICHENO      DATE_  \\\n",
            "611101  511342.0    6480.0  UNO KEPEKLI EKMEK 470GR.   134601 2017-03-18   \n",
            "611102  512198.0       7.0              EKMEK 250 GR   134742 2017-03-18   \n",
            "611103  511703.0       7.0              EKMEK 250 GR   134656 2017-03-18   \n",
            "611104  511496.0       7.0              EKMEK 250 GR   134630 2017-03-18   \n",
            "611105  492612.0       7.0              EKMEK 250 GR   130100 2017-03-15   \n",
            "611106  512343.0       7.0              EKMEK 250 GR   134762 2017-03-18   \n",
            "611107  512179.0    3942.0    ETI 80 GR KARAM BITTER   134738 2017-03-18   \n",
            "\n",
            "        AMOUNT  PRICE  LINENETTOTAL  LINENET  BRANCHNR           BRANCH  \\\n",
            "611101     1.0   3.25          3.25     3.22      73.0  Tekirdağ Subesi   \n",
            "611102     1.0   0.90          0.90     0.89      40.0  İstanbul Subesi   \n",
            "611103     1.0   0.90          0.90     0.89      66.0   Sakarya Subesi   \n",
            "611104     1.0   0.90          0.90     0.89       7.0    Ankara Subesi   \n",
            "611105     1.0   0.90          0.90     0.89      59.0     Muğla Subesi   \n",
            "611106     1.0   0.90          0.90     0.88      40.0  İstanbul Subesi   \n",
            "611107     1.0   1.90          1.90     1.76      74.0     Tokat Subesi   \n",
            "\n",
            "              SALESMAN      CITY      REGION  LATITUDE  LONGITUDE CLIENTCODE  \\\n",
            "611101  Aleyna ÇUKUREL  Tekirdağ     Marmara   40.9833    27.5167      16670   \n",
            "611102    İsmet SARTIK  İstanbul     Marmara   41.0053    28.9770     523722   \n",
            "611103  Beren BULGURCU   Sakarya     Marmara   40.6940    30.4358     374191   \n",
            "611104       Eda SINAV    Ankara  İç Anadolu   39.9208    32.8541     656248   \n",
            "611105  Nisa nur SAĞIM     Muğla         Ege   37.2153    28.3636      78643   \n",
            "611106     Arife DORAP  İstanbul     Marmara   41.0053    28.9770     926041   \n",
            "611107  Lütfiye DÖŞEME     Tokat   Karadeniz   40.3167    36.5500     241748   \n",
            "\n",
            "              CLIENTNAME BRANDCODE BRAND CATEGORY_NAME1 CATEGORY_NAME2  \\\n",
            "611101       Berat ÖGMEN       145   UNO           GIDA  UNLU MAMÜLLER   \n",
            "611102       Özcan PAPİR       NaN   NaN           GIDA  UNLU MAMÜLLER   \n",
            "611103   Mahmut BAYATGİL       NaN   NaN           GIDA  UNLU MAMÜLLER   \n",
            "611104       Gamze BOTUÇ       NaN   NaN           GIDA  UNLU MAMÜLLER   \n",
            "611105  Cengiz BEREKETÇİ       NaN   NaN           GIDA  UNLU MAMÜLLER   \n",
            "611106  Elifnur EGİNKAYA       NaN   NaN           GIDA  UNLU MAMÜLLER   \n",
            "611107    Hacer CANDEMİR        44   ETİ           GIDA  BÜSKİVİ ÇEREZ   \n",
            "\n",
            "       CATEGORY_NAME3           STARTDATE             ENDDATE GENDER  \n",
            "611101          EKMEK 2017-03-19 18:54:51 2017-03-19 18:54:58      E  \n",
            "611102          EKMEK 2017-03-19 16:09:39 2017-03-19 16:11:10      E  \n",
            "611103          EKMEK 2017-03-19 09:39:54 2017-03-19 09:40:50      E  \n",
            "611104          EKMEK 2017-03-19 20:30:58 2017-03-19 20:31:17      K  \n",
            "611105          EKMEK 2017-03-16 17:51:04 2017-03-16 17:51:18      E  \n",
            "611106          EKMEK 2017-03-19 17:00:12 2017-03-19 17:01:20      K  \n",
            "611107        BÜSKİVİ 2017-03-19 16:00:15 2017-03-19 16:00:37      K  \n"
          ]
        }
      ]
    },
    {
      "cell_type": "markdown",
      "metadata": {
        "id": "lmgX2Jw5KdDM"
      },
      "source": [
        "### 15- Verisetinde her satır için AMOUNT PRICE LINENETTOTAL sutunlarına ait bilgileri yazdıralım"
      ]
    },
    {
      "cell_type": "code",
      "source": [
        "secilen_sutunlar = data[['AMOUNT', 'PRICE', 'LINENETTOTAL']]\n",
        "print(secilen_sutunlar)"
      ],
      "metadata": {
        "id": "QbeUpwy6bpRx",
        "colab": {
          "base_uri": "https://localhost:8080/"
        },
        "outputId": "df9353e2-dd9b-4104-f515-f003f5af8211"
      },
      "execution_count": 41,
      "outputs": [
        {
          "output_type": "stream",
          "name": "stdout",
          "text": [
            "        AMOUNT  PRICE  LINENETTOTAL\n",
            "0          1.0   2.00          2.00\n",
            "1          5.0   2.65         13.25\n",
            "2          1.0   0.40          0.40\n",
            "3          1.0   0.40          0.40\n",
            "4          1.0   0.40          0.40\n",
            "...        ...    ...           ...\n",
            "611103     1.0   0.90          0.90\n",
            "611104     1.0   0.90          0.90\n",
            "611105     1.0   0.90          0.90\n",
            "611106     1.0   0.90          0.90\n",
            "611107     1.0   1.90          1.90\n",
            "\n",
            "[611108 rows x 3 columns]\n"
          ]
        }
      ]
    },
    {
      "cell_type": "markdown",
      "metadata": {
        "id": "pWdDiDu8KdDN"
      },
      "source": [
        "### 16- Verisetinde LINENETTOTAL sutunda 15 den büyük olan satırları yazdıralım"
      ]
    },
    {
      "cell_type": "code",
      "source": [
        "filtrelenmis_data = data[data['LINENETTOTAL'] > 15]\n",
        "print(filtrelenmis_data)"
      ],
      "metadata": {
        "id": "E6eyhTG-bszN",
        "colab": {
          "base_uri": "https://localhost:8080/"
        },
        "outputId": "9c0004b7-ccf1-4b29-de1e-961ae39f6ccd"
      },
      "execution_count": 42,
      "outputs": [
        {
          "output_type": "stream",
          "name": "stdout",
          "text": [
            "              ID  ITEMCODE                                   ITEMNAME  \\\n",
            "62        9745.0   10429.0                YUDUM AYCICEK YAGI 5 LT TNK   \n",
            "64        3322.0   19108.0             F NEFFIS AYCICEK YAGI 5 LT PET   \n",
            "95        5317.0    6217.0                   LD LODOS DENİZCİSİ SLİMS   \n",
            "239       7783.0    5571.0   WELLA KOLESTON KOPUK BOYA 5/0 ACIK KAHVE   \n",
            "250       7611.0    3187.0        F NEFFIS TAZE KASAR PEYNIRI 1000 GR   \n",
            "...          ...       ...                                        ...   \n",
            "610879  597076.0   10663.0  FAIRY H 1 ARADA BUL.MAKINESI 70'LI. LIMON   \n",
            "611060  596973.0   21588.0                                 DANA GULAS   \n",
            "611061  596365.0   21591.0                              DANA ANTRIKOT   \n",
            "611065  597287.0     968.0                   ICIM DOGAL YOGURT 2250GR   \n",
            "611068  596374.0   21584.0                          DANA KIYMALIK KG.   \n",
            "\n",
            "        FICHENO      DATE_  AMOUNT  PRICE  LINENETTOTAL  LINENET  BRANCHNR  \\\n",
            "62        17902 2017-01-06   1.000  20.49         20.49    18.97      12.0   \n",
            "64        16540 2017-01-05   1.000  17.90         17.90    16.57      39.0   \n",
            "95        16903 2017-01-05  10.000   5.00         50.00    50.00      70.0   \n",
            "239       17473 2017-01-06   1.000  15.75         15.75    13.35      56.0   \n",
            "250       17450 2017-01-06   1.000  15.75         15.75    14.58      67.0   \n",
            "...         ...        ...     ...    ...           ...      ...       ...   \n",
            "610879   154695 2017-03-30   1.000  27.50         27.50    23.31      52.0   \n",
            "611060   154689 2017-03-30   0.996  23.90         23.80    22.04      11.0   \n",
            "611061   154529 2017-03-30   0.660  27.90         18.41    17.05       7.0   \n",
            "611065   154731 2017-03-30   6.000   7.25         43.50    40.28      41.0   \n",
            "611068   154531 2017-03-30   1.042  19.90         20.74    19.21      42.0   \n",
            "\n",
            "                      BRANCH          SALESMAN           CITY      REGION  \\\n",
            "62          Balıkesir Subesi     Sami KASIMOVA      Balıkesir         Ege   \n",
            "64            Isparta Subesi   Elif nur GÜNLER        Isparta     Akdeniz   \n",
            "95              Sivas Subesi   Hümeyra GEÇİCİ)          Sivas  İç Anadolu   \n",
            "239            Manisa Subesi        Veli ÇAHAN         Manisa         Ege   \n",
            "250            Samsun Subesi      Necdet VARAL         Samsun   Karadeniz   \n",
            "...                      ...               ...            ...         ...   \n",
            "610879        Kocaeli Subesi  Halil KIRMIZIGÜN        Kocaeli     Marmara   \n",
            "611060          Aydın Subesi      Selçuk TEZEL          Aydın         Ege   \n",
            "611061         Ankara Subesi     Meliha AKTEKE         Ankara  İç Anadolu   \n",
            "611065          İzmir Subesi      Gülten IŞLAK          İzmir         Ege   \n",
            "611068  Kahramanmaraş Subesi    Duygu TEKİNSİZ  Kahramanmaraş     Akdeniz   \n",
            "\n",
            "        LATITUDE  LONGITUDE CLIENTCODE        CLIENTNAME BRANDCODE  \\\n",
            "62       39.6484    27.8826     521495      Bilal PORSUK       152   \n",
            "64       37.7648    30.5566     791614      Tayfun BATAK        49   \n",
            "95       39.7477    37.0179    1021217     Kezban GÖŞELİ       163   \n",
            "239      38.6191    27.4289     285961  Görkem ZIESCHANG       307   \n",
            "250      41.2928    36.3313     241750     Hazal ÖZBAKIŞ        49   \n",
            "...          ...        ...        ...               ...       ...   \n",
            "610879   40.8533    29.8815     712152      Hikmet YEREN       298   \n",
            "611060   37.8560    27.8416      27039   Mevlüt AYDINLIK       235   \n",
            "611061   39.9208    32.8541     350244   Reyhan ÇELİKSOY       235   \n",
            "611065   38.4189    27.1287     946400     Dursun GEYLAN        67   \n",
            "611068   37.5858    36.9371    1098716   Deniz GÖKMENLER       235   \n",
            "\n",
            "             BRAND     CATEGORY_NAME1  CATEGORY_NAME2 CATEGORY_NAME3  \\\n",
            "62           YUDUM               GIDA     SIVI YAĞLAR        AYÇİÇEK   \n",
            "64        F NEFFİS               GIDA     SIVI YAĞLAR        AYÇİÇEK   \n",
            "95             JTİ             SİGARA             NaN            NaN   \n",
            "239          WELLA           KOZMETİK       SAÇ BAKIM   SAÇ BOYALARI   \n",
            "250       F NEFFİS    SÜT KAHVALTILIK          PEYNİR  KAŞAR PEYNİRİ   \n",
            "...            ...                ...             ...            ...   \n",
            "610879       FAİRY  DETERJAN TEMİZLİK  BULAŞIK YIKAMA         MAKİNE   \n",
            "611060       KASAP           ET TAVUK      KIRMIZI ET           DANA   \n",
            "611061       KASAP           ET TAVUK      KIRMIZI ET           DANA   \n",
            "611065  İÇİM SEHER    SÜT KAHVALTILIK          YOĞURT      YOĞURTLAR   \n",
            "611068       KASAP           ET TAVUK      KIRMIZI ET           DANA   \n",
            "\n",
            "                 STARTDATE             ENDDATE GENDER  \n",
            "62     2017-01-07 14:28:00 2017-01-07 14:29:39      E  \n",
            "64     2017-01-06 20:08:26 2017-01-06 20:08:39      E  \n",
            "95     2017-01-06 13:44:22 2017-01-06 13:44:45      K  \n",
            "239    2017-01-07 14:52:34 2017-01-07 14:53:16      E  \n",
            "250    2017-01-07 20:00:19 2017-01-07 20:04:26      K  \n",
            "...                    ...                 ...    ...  \n",
            "610879 2017-03-31 12:24:13 2017-03-31 12:24:54      E  \n",
            "611060 2017-03-31 10:18:03 2017-03-31 10:18:39      E  \n",
            "611061 2017-03-31 18:27:07 2017-03-31 18:27:56      K  \n",
            "611065 2017-03-31 15:18:26 2017-03-31 15:28:25      E  \n",
            "611068 2017-03-31 18:36:26 2017-03-31 18:36:54      E  \n",
            "\n",
            "[17698 rows x 26 columns]\n"
          ]
        }
      ]
    },
    {
      "cell_type": "markdown",
      "metadata": {
        "id": "7hIzFmslKdDN"
      },
      "source": [
        "### 17- Verisetinde BRANCH ı Balıkesir Subesi olan satırları bulalım"
      ]
    },
    {
      "cell_type": "code",
      "source": [
        "balikkesir_subesi = data[data['BRANCH'] == 'Balıkesir Subesi']\n",
        "print(balikkesir_subesi)"
      ],
      "metadata": {
        "id": "ygGXjVqPbvJ5",
        "colab": {
          "base_uri": "https://localhost:8080/"
        },
        "outputId": "a1290772-b69b-431d-accc-631282e64586"
      },
      "execution_count": 43,
      "outputs": [
        {
          "output_type": "stream",
          "name": "stdout",
          "text": [
            "              ID  ITEMCODE                                ITEMNAME  FICHENO  \\\n",
            "15        9625.0    5780.0                          SALKIM DOMATES    17865   \n",
            "16        9748.0    5715.0                                 PATATES    17902   \n",
            "62        9745.0   10429.0             YUDUM AYCICEK YAGI 5 LT TNK    17902   \n",
            "124       9907.0    5710.0                           KIRMIZI BIBER    17945   \n",
            "165       3534.0   23477.0  NOGAY ÖZEL ÜRÜN YAGLI SELE ZEYTINI LUX    16607   \n",
            "...          ...       ...                                     ...      ...   \n",
            "610941  604581.0     132.0              GOZDE KOKTELY SOSIS 500 GR   156739   \n",
            "610942  604582.0     132.0              GOZDE KOKTELY SOSIS 500 GR   156739   \n",
            "611049  604585.0    5694.0                                 DOMATES   156739   \n",
            "611085  511252.0     195.0            ULKER PIKNIK KAKAOLU 3*70 GR   134582   \n",
            "611093  511278.0   18219.0                SULTAN KEP.BUGDAY EKMEGI   134590   \n",
            "\n",
            "            DATE_  AMOUNT  PRICE  LINENETTOTAL  LINENET  BRANCHNR  \\\n",
            "15     2017-01-06   0.945   5.20          4.91     4.55      12.0   \n",
            "16     2017-01-06   2.790   2.45          6.84     6.33      12.0   \n",
            "62     2017-01-06   1.000  20.49         20.49    18.97      12.0   \n",
            "124    2017-01-06   0.750   4.95          3.71     3.44      12.0   \n",
            "165    2017-01-05   0.540   9.95          5.37     4.98      12.0   \n",
            "...           ...     ...    ...           ...      ...       ...   \n",
            "610941 2017-03-31   1.000   5.50          5.50     5.09      12.0   \n",
            "610942 2017-03-31   1.000   5.50          5.50     5.09      12.0   \n",
            "611049 2017-03-31   1.040   2.65          2.76     2.56      12.0   \n",
            "611085 2017-03-18   1.000   1.50          1.50     1.39      12.0   \n",
            "611093 2017-03-18   1.000   1.00          1.00     0.99      12.0   \n",
            "\n",
            "                  BRANCH       SALESMAN       CITY REGION  LATITUDE  \\\n",
            "15      Balıkesir Subesi  Sami KASIMOVA  Balıkesir    Ege   39.6484   \n",
            "16      Balıkesir Subesi  Sami KASIMOVA  Balıkesir    Ege   39.6484   \n",
            "62      Balıkesir Subesi  Sami KASIMOVA  Balıkesir    Ege   39.6484   \n",
            "124     Balıkesir Subesi  Neriman BEYAZ  Balıkesir    Ege   39.6484   \n",
            "165     Balıkesir Subesi  Sami KASIMOVA  Balıkesir    Ege   39.6484   \n",
            "...                  ...            ...        ...    ...       ...   \n",
            "610941  Balıkesir Subesi  Neriman BEYAZ  Balıkesir    Ege   39.6484   \n",
            "610942  Balıkesir Subesi  Neriman BEYAZ  Balıkesir    Ege   39.6484   \n",
            "611049  Balıkesir Subesi  Neriman BEYAZ  Balıkesir    Ege   39.6484   \n",
            "611085  Balıkesir Subesi   Sıraç MEHMET  Balıkesir    Ege   39.6484   \n",
            "611093  Balıkesir Subesi  Sami KASIMOVA  Balıkesir    Ege   39.6484   \n",
            "\n",
            "        LONGITUDE CLIENTCODE       CLIENTNAME BRANDCODE   BRAND  \\\n",
            "15        27.8826      74884    Miray KOÇOĞLU       A25     HAL   \n",
            "16        27.8826     521495     Bilal PORSUK       A25     HAL   \n",
            "62        27.8826     521495     Bilal PORSUK       152   YUDUM   \n",
            "124       27.8826        NaN              NaN       A25     HAL   \n",
            "165       27.8826     654286       Pınar ECİR        99   NOGAY   \n",
            "...           ...        ...              ...       ...     ...   \n",
            "610941    27.8826       1589     Sevda MEVSİM       NaN     NaN   \n",
            "610942    27.8826       1589     Sevda MEVSİM       NaN     NaN   \n",
            "611049    27.8826       1589     Sevda MEVSİM       A25     HAL   \n",
            "611085    27.8826     872827   Zekiye ERDAMAR       146   ÜLKER   \n",
            "611093    27.8826     628800  Hacer YOLCUOĞLU       134  SULTAN   \n",
            "\n",
            "         CATEGORY_NAME1 CATEGORY_NAME2 CATEGORY_NAME3           STARTDATE  \\\n",
            "15          MEYVE SEBZE          SEBZE            NaN 2017-01-07 11:12:54   \n",
            "16          MEYVE SEBZE          SEBZE            NaN 2017-01-07 14:28:00   \n",
            "62                 GIDA    SIVI YAĞLAR        AYÇİÇEK 2017-01-07 14:28:00   \n",
            "124         MEYVE SEBZE          SEBZE            NaN 2017-01-07 17:24:07   \n",
            "165     SÜT KAHVALTILIK         ZEYTİN            NaN 2017-01-06 09:40:58   \n",
            "...                 ...            ...            ...                 ...   \n",
            "610941         ET TAVUK   ET ŞARKÜTERİ          SOSİS 2017-04-01 16:24:46   \n",
            "610942         ET TAVUK   ET ŞARKÜTERİ          SOSİS 2017-04-01 16:24:46   \n",
            "611049      MEYVE SEBZE          SEBZE            NaN 2017-04-01 16:24:46   \n",
            "611085             GIDA  BÜSKİVİ ÇEREZ        BÜSKİVİ 2017-03-19 17:51:42   \n",
            "611093             GIDA  UNLU MAMÜLLER          EKMEK 2017-03-19 18:09:02   \n",
            "\n",
            "                   ENDDATE GENDER  \n",
            "15     2017-01-07 11:13:35      K  \n",
            "16     2017-01-07 14:29:39      E  \n",
            "62     2017-01-07 14:29:39      E  \n",
            "124    2017-01-07 17:24:25    NaN  \n",
            "165    2017-01-06 09:42:01      K  \n",
            "...                    ...    ...  \n",
            "610941 2017-04-01 16:25:31      K  \n",
            "610942 2017-04-01 16:25:31      K  \n",
            "611049 2017-04-01 16:25:31      K  \n",
            "611085 2017-03-19 17:52:13      K  \n",
            "611093 2017-03-19 18:09:23      K  \n",
            "\n",
            "[9428 rows x 26 columns]\n"
          ]
        }
      ]
    }
  ],
  "metadata": {
    "kernelspec": {
      "display_name": "Python 3 (ipykernel)",
      "language": "python",
      "name": "python3"
    },
    "language_info": {
      "codemirror_mode": {
        "name": "ipython",
        "version": 3
      },
      "file_extension": ".py",
      "mimetype": "text/x-python",
      "name": "python",
      "nbconvert_exporter": "python",
      "pygments_lexer": "ipython3",
      "version": "3.9.7"
    },
    "colab": {
      "provenance": [],
      "include_colab_link": true
    }
  },
  "nbformat": 4,
  "nbformat_minor": 0
}