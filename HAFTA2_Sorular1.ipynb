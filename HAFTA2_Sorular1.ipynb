{
  "nbformat": 4,
  "nbformat_minor": 0,
  "metadata": {
    "colab": {
      "provenance": [],
      "authorship_tag": "ABX9TyOilbCNMzrADAUyWJWy0EHi",
      "include_colab_link": true
    },
    "kernelspec": {
      "name": "python3",
      "display_name": "Python 3"
    },
    "language_info": {
      "name": "python"
    }
  },
  "cells": [
    {
      "cell_type": "markdown",
      "metadata": {
        "id": "view-in-github",
        "colab_type": "text"
      },
      "source": [
        "<a href=\"https://colab.research.google.com/github/phorabix/Veri-Bilimine-Giri-/blob/main/HAFTA2_Sorular1.ipynb\" target=\"_parent\"><img src=\"https://colab.research.google.com/assets/colab-badge.svg\" alt=\"Open In Colab\"/></a>"
      ]
    },
    {
      "cell_type": "code",
      "execution_count": null,
      "metadata": {
        "colab": {
          "base_uri": "https://localhost:8080/"
        },
        "id": "uwUzz4iIL41Y",
        "outputId": "b832bd69-4fac-4dbe-d912-28cbe024e576"
      },
      "outputs": [
        {
          "output_type": "stream",
          "name": "stdout",
          "text": [
            "--- NESNE BİLGİLERİ ---\n",
            "İsim: Ali Veli, Yaş: 30, Cinsiyet: Erkek\n",
            "İsim: Ayşe Yılmaz, Yaş: 45, Cinsiyet: Kadın\n",
            "İsim: Zeynep Kaya, Yaş: 20, Cinsiyet: Kadın\n",
            "\n",
            "--- SINIFLARA ÖZGÜ METOTLAR ---\n",
            "Ayşe Yılmaz adlı hoca Matematik dersini anlatıyor.\n",
            "Zeynep Kaya adlı öğrenci 12-A sınıfında derse katılıyor.\n",
            "\n",
            "--- KAPSÜLLEME (ENCAPSULATION) TESTİ ---\n",
            "Öğrencinin okul numarası (getter ile): 1234\n",
            "Okul numarası 5678 olarak güncelleniyor...\n",
            "Yeni okul numarası: 5678\n",
            "\n",
            "--- ÇOK BİÇİMLİLİK (POLYMORPHISM) TESTİ ---\n",
            "Ayşe Yılmaz adlı hoca Matematik dersini anlatıyor.\n",
            "Ben öğrenci Zeynep Kaya, dersi dinliyorum.\n"
          ]
        }
      ],
      "source": [
        "\n",
        "class Insan:\n",
        "    \"\"\"\n",
        "    Temel Insan sınıfı.\n",
        "    isim, yas ve cinsiyet özelliklerini barındırır.\n",
        "    yas özelliği kapsülleme (encapsulation) ile gizlenmiştir.\n",
        "    \"\"\"\n",
        "    def __init__(self, isim, yas, cinsiyet):\n",
        "        self.isim = isim\n",
        "        self.cinsiyet = cinsiyet\n",
        "\n",
        "    def get_yas(self):\n",
        "        return self.__yas\n",
        "\n",
        "    def set_yas(self, yeni_yas):\n",
        "        if isinstance(yeni_yas, int) and yeni_yas > 0:\n",
        "            self.__yas = yeni_yas\n",
        "        else:\n",
        "            print(\"Hata: Yaş değeri pozitif bir tam sayı olmalıdır.\")\n",
        "\n",
        "    def bilgi_ver(self):\n",
        "        print(f\"İsim: {self.isim}, Yaş: {self.get_yas()}, Cinsiyet: {self.cinsiyet}\")\n",
        "\n",
        "class Hoca(Insan):\n",
        "    def __init__(self, isim, yas, cinsiyet, brans):\n",
        "        super().__init__(isim, yas, cinsiyet)\n",
        "        self.brans = brans\n",
        "    def konus(self):\n",
        "        return f\"{self.isim} adlı hoca {self.brans} dersini anlatıyor.\"\n",
        "\n",
        "class Ogrenci(Insan):\n",
        "    def __init__(self, isim, yas, cinsiyet, sinif, okul_no):\n",
        "        super().__init__(isim, yas, cinsiyet)\n",
        "        self.sinif = sinif\n",
        "        self.__okul_no = okul_no\n",
        "\n",
        "    def get_okul_no(self):\n",
        "        return self.__okul_no\n",
        "\n",
        "    def set_okul_no(self, yeni_no):\n",
        "        if isinstance(yeni_no, int):\n",
        "            self.__okul_no = yeni_no\n",
        "        else:\n",
        "            print(\"Hata: Okul numarası bir tam sayı olmalıdır.\")\n",
        "\n",
        "    def katil(self):\n",
        "        return f\"{self.isim} adlı öğrenci {self.sinif} sınıfında derse katılıyor.\"\n",
        "\n",
        "    def konus(self):\n",
        "        return f\"Ben öğrenci {self.isim}, dersi dinliyorum.\"\n",
        "\n",
        "\n",
        "if __name__ == \"__main__\":\n",
        "    insan1 = Insan(\"Ali Veli\", 30, \"Erkek\")\n",
        "    hoca1 = Hoca(\"Ayşe Yılmaz\", 45, \"Kadın\", \"Matematik\")\n",
        "    ogrenci1 = Ogrenci(\"Zeynep Kaya\", 20, \"Kadın\", \"12-A\", 1234)\n",
        "\n",
        "    print(\"--- NESNE BİLGİLERİ ---\")\n",
        "    insan1.bilgi_ver()\n",
        "    hoca1.bilgi_ver()\n",
        "    ogrenci1.bilgi_ver()\n",
        "\n",
        "    print(\"\\n--- SINIFLARA ÖZGÜ METOTLAR ---\")\n",
        "    print(hoca1.konus())\n",
        "    print(ogrenci1.katil())\n",
        "\n",
        "    print(\"\\n--- KAPSÜLLEME (ENCAPSULATION) TESTİ ---\")\n",
        "    print(f\"Öğrencinin okul numarası (getter ile): {ogrenci1.get_okul_no()}\")\n",
        "    print(\"Okul numarası 5678 olarak güncelleniyor...\")\n",
        "    ogrenci1.set_okul_no(5678)\n",
        "    print(f\"Yeni okul numarası: {ogrenci1.get_okul_no()}\")\n",
        "\n",
        "    print(\"\\n--- ÇOK BİÇİMLİLİK (POLYMORPHISM) TESTİ ---\")\n",
        "    kisiler = [hoca1, ogrenci1]\n",
        "\n",
        "    for kisi in kisiler:\n",
        "        print(kisi.konus())"
      ]
    }
  ]
}