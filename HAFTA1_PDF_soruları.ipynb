{
  "cells": [
    {
      "cell_type": "markdown",
      "metadata": {
        "id": "view-in-github",
        "colab_type": "text"
      },
      "source": [
        "<a href=\"https://colab.research.google.com/github/phorabix/Veri-Bilimine-Giri-/blob/main/HAFTA1_PDF_sorular%C4%B1.ipynb\" target=\"_parent\"><img src=\"https://colab.research.google.com/assets/colab-badge.svg\" alt=\"Open In Colab\"/></a>"
      ]
    },
    {
      "cell_type": "code",
      "execution_count": null,
      "metadata": {
        "colab": {
          "base_uri": "https://localhost:8080/"
        },
        "id": "cjnhnd8U_tC2",
        "outputId": "427b334c-27ed-4df9-e71f-e867d9ed1558"
      },
      "outputs": [
        {
          "data": {
            "text/plain": [
              "int"
            ]
          },
          "execution_count": 1,
          "metadata": {},
          "output_type": "execute_result"
        }
      ],
      "source": [
        "a=\"Ela\"    \"\"\"1.örnek\"\"\"\n",
        "b=\"3\"\n",
        "type(a)\n",
        "type(b)\n",
        "c=3\n",
        "type(c)"
      ]
    },
    {
      "cell_type": "code",
      "execution_count": null,
      "metadata": {
        "colab": {
          "base_uri": "https://localhost:8080/",
          "height": 36
        },
        "id": "bOlJDynp_ycC",
        "outputId": "6a6b1f77-7397-4cac-8591-5c8b817cb358"
      },
      "outputs": [
        {
          "data": {
            "application/vnd.google.colaboratory.intrinsic+json": {
              "type": "string"
            },
            "text/plain": [
              "'25'"
            ]
          },
          "execution_count": 6,
          "metadata": {},
          "output_type": "execute_result"
        }
      ],
      "source": [
        "liste1=[1,3,3,5,4,5,4,\"ali\",\"canan\"]         \"\"\"2.örnek\"\"\"\n",
        "liste1[0] #indis,indexler 0 dan başlar\n",
        "len(liste1) #sayma sayıları 1 den başlar\n",
        "dir(liste1) #built in functions\n",
        "liste2=[1,3,3,5,4,5,4]\n",
        "liste2.sort()\n",
        "liste2\n",
        "liste2[0]=100000 #mutable değişir\n",
        "liste2[0]\n",
        "liste2\n",
        "liste2.pop()\n",
        "liste2.append(25)\n",
        "liste2.insert(7,\"25\")\n",
        "liste2\n",
        "liste2[7]"
      ]
    },
    {
      "cell_type": "code",
      "execution_count": null,
      "metadata": {
        "colab": {
          "base_uri": "https://localhost:8080/",
          "height": 36
        },
        "id": "7SaeuWRJB3Rj",
        "outputId": "c9f272c2-b7bc-4999-b261-c56a5ce1c123"
      },
      "outputs": [
        {
          "data": {
            "application/vnd.google.colaboratory.intrinsic+json": {
              "type": "string"
            },
            "text/plain": [
              "'Ela'"
            ]
          },
          "execution_count": 20,
          "metadata": {},
          "output_type": "execute_result"
        }
      ],
      "source": [
        "x=\"ela\"                \"\"\"3.örnek\"\"\"\n",
        "type(x)\n",
        "x.capitalize()"
      ]
    },
    {
      "cell_type": "code",
      "execution_count": null,
      "metadata": {
        "colab": {
          "base_uri": "https://localhost:8080/"
        },
        "id": "uHtmaNcpCEaK",
        "outputId": "35dad368-2dcd-41bc-c779-d3f8f2243ef6"
      },
      "outputs": [
        {
          "name": "stdout",
          "output_type": "stream",
          "text": [
            "3, 5 degerlerini alır\n",
            "Merhaba!\n",
            "Merhaba, ela!\n"
          ]
        }
      ],
      "source": [
        "def topla(deger,deger2):                                  \"\"\"4.örnek\"\"\"\n",
        "    print(\"{}, {} degerlerini alır\".format(deger,deger2))\n",
        "\n",
        "def selam(isim=None):\n",
        "    if isim:\n",
        "        print(f\"Merhaba, {isim}!\")\n",
        "    else:\n",
        "        print(\"Merhaba!\")\n",
        "\n",
        "topla(3,5)\n",
        "selam()\n",
        "selam(\"ela\")"
      ]
    },
    {
      "cell_type": "code",
      "execution_count": null,
      "metadata": {
        "colab": {
          "base_uri": "https://localhost:8080/",
          "height": 106
        },
        "id": "YnhkKiviCgCZ",
        "outputId": "74b85e6c-eb7d-4b61-f81e-3d46eefad781"
      },
      "outputs": [
        {
          "ename": "IndentationError",
          "evalue": "expected an indented block after function definition on line 1 (ipython-input-451622324.py, line 2)",
          "output_type": "error",
          "traceback": [
            "\u001b[0;36m  File \u001b[0;32m\"/tmp/ipython-input-451622324.py\"\u001b[0;36m, line \u001b[0;32m2\u001b[0m\n\u001b[0;31m    print(\"selam\")\u001b[0m\n\u001b[0m    ^\u001b[0m\n\u001b[0;31mIndentationError\u001b[0m\u001b[0;31m:\u001b[0m expected an indented block after function definition on line 1\n"
          ]
        }
      ],
      "source": [
        "def selam():          \"\"\"5.örnek\"\"\"\n",
        "print(\"selam\")"
      ]
    },
    {
      "cell_type": "code",
      "execution_count": null,
      "metadata": {
        "id": "at1slRm8Cgq2"
      },
      "outputs": [],
      "source": [
        "def selam():                \"\"\"5.örnek\"\"\"\n",
        "    print(\"selam\")\n",
        "help(print)\n",
        "selam()\n",
        "def selamGotur(isim):\n",
        "    print(\"selam\",isim)\n",
        "selamGotur(\"ela\")\n",
        "def topla():\n",
        "    print(\"toplama yapan fonks.\")\n"
      ]
    },
    {
      "cell_type": "code",
      "execution_count": null,
      "metadata": {
        "colab": {
          "base_uri": "https://localhost:8080/"
        },
        "id": "kviXSvLADPvY",
        "outputId": "facc98da-f90f-4afd-8866-48db80a22f0c"
      },
      "outputs": [
        {
          "name": "stdout",
          "output_type": "stream",
          "text": [
            "istenilen değerin karesi 16: \n",
            "istenilen değerin karesi  64\n"
          ]
        }
      ],
      "source": [
        "def topla(a,b):           \"\"\"\"6.örnek\"\"\"\n",
        "    c=a+b\n",
        "    return c\n",
        "def kareal(a):\n",
        "    return a*a\n",
        "sonuc=kareal(4)\n",
        "print(\"istenilen değerin karesi {}: \".format(sonuc))\n",
        "sonuc=kareal(8)\n",
        "print(\"istenilen değerin karesi \",sonuc)"
      ]
    },
    {
      "cell_type": "code",
      "execution_count": null,
      "metadata": {
        "colab": {
          "base_uri": "https://localhost:8080/"
        },
        "id": "CaWFL8Z4BfVD",
        "outputId": "0ac0122e-70ed-43c1-9bdb-be0ac7c04023"
      },
      "outputs": [
        {
          "name": "stdout",
          "output_type": "stream",
          "text": [
            "sinan\n",
            "Help on built-in function format in module builtins:\n",
            "\n",
            "format(value, format_spec='', /)\n",
            "    Return type(value).__format__(value, format_spec)\n",
            "\n",
            "    Many built-in types implement format_spec according to the\n",
            "    Format Specification Mini-language. See help('FORMATTING').\n",
            "\n",
            "    If type(value) does not supply a method named __format__\n",
            "    and format_spec is empty, then str(value) is returned.\n",
            "    See also help('SPECIALMETHODS').\n",
            "\n",
            "1. sayıyı giriniz: 5\n",
            "2. sayıyı giriniz: 7\n",
            "sonuc : -2\n",
            "sonuc : 0\n"
          ]
        },
        {
          "data": {
            "text/plain": [
              "0"
            ]
          },
          "execution_count": 32,
          "metadata": {},
          "output_type": "execute_result"
        }
      ],
      "source": [
        "print(\"sinan\")                                \"\"\"7.örnek\"\"\"\n",
        "def selam(d):\n",
        "    print(\"grilen deger\",d)\n",
        "help(format) #?format\n",
        "a= int(input(\"1. sayıyı giriniz: \"))\n",
        "b= int(input(\"2. sayıyı giriniz: \"))\n",
        "\n",
        "def kareal(x):\n",
        "\n",
        "    return x*x\n",
        "\n",
        "def cikar(x,y):\n",
        "    print(\"sonuc :\",x-y)\n",
        "    return x-y\n",
        "\n",
        "sonuc=cikar(a,b)\n",
        "kareal(a)\n",
        "cikar(5,5)"
      ]
    },
    {
      "cell_type": "code",
      "execution_count": null,
      "metadata": {
        "colab": {
          "base_uri": "https://localhost:8080/"
        },
        "id": "7C1gf0nYECW2",
        "outputId": "74ce3b02-a339-4474-86b4-6f157fd6dc9d"
      },
      "outputs": [
        {
          "name": "stdout",
          "output_type": "stream",
          "text": [
            "125.0\n"
          ]
        },
        {
          "data": {
            "text/plain": [
              "10"
            ]
          },
          "execution_count": 34,
          "metadata": {},
          "output_type": "execute_result"
        }
      ],
      "source": [
        "def ceyrek(x):                \"\"\"8.örnek\"\"\"\n",
        "    return x/4\n",
        "def küpal(x):\n",
        "    return x*x*x\n",
        "küpal(3)\n",
        "ceyrek(4)\n",
        "küpal(ceyrek(12))\n",
        "print(küpal(ceyrek(20)))\n",
        "liste1=[1,2,3,4,5]\n",
        "liste1\n",
        "\n",
        "liste2=[i*2 for i in liste1]\n",
        "liste2\n",
        "kare=lambda x:x*x\n",
        "def toplama(x,y):\n",
        "    return x+y\n",
        "toplama(5,5)\n",
        "toplama=lambda x,y: x+y\n",
        "toplama(5,5)"
      ]
    },
    {
      "cell_type": "code",
      "execution_count": null,
      "metadata": {
        "colab": {
          "base_uri": "https://localhost:8080/"
        },
        "id": "I-EYV158ECaK",
        "outputId": "bde7218e-9d2e-4129-f79c-a46797d3d72d"
      },
      "outputs": [
        {
          "name": "stdout",
          "output_type": "stream",
          "text": [
            "Help on built-in module math:\n",
            "\n",
            "NAME\n",
            "    math\n",
            "\n",
            "DESCRIPTION\n",
            "    This module provides access to the mathematical functions\n",
            "    defined by the C standard.\n",
            "\n",
            "FUNCTIONS\n",
            "    acos(x, /)\n",
            "        Return the arc cosine (measured in radians) of x.\n",
            "\n",
            "        The result is between 0 and pi.\n",
            "\n",
            "    acosh(x, /)\n",
            "        Return the inverse hyperbolic cosine of x.\n",
            "\n",
            "    asin(x, /)\n",
            "        Return the arc sine (measured in radians) of x.\n",
            "\n",
            "        The result is between -pi/2 and pi/2.\n",
            "\n",
            "    asinh(x, /)\n",
            "        Return the inverse hyperbolic sine of x.\n",
            "\n",
            "    atan(x, /)\n",
            "        Return the arc tangent (measured in radians) of x.\n",
            "\n",
            "        The result is between -pi/2 and pi/2.\n",
            "\n",
            "    atan2(y, x, /)\n",
            "        Return the arc tangent (measured in radians) of y/x.\n",
            "\n",
            "        Unlike atan(y/x), the signs of both x and y are considered.\n",
            "\n",
            "    atanh(x, /)\n",
            "        Return the inverse hyperbolic tangent of x.\n",
            "\n",
            "    cbrt(x, /)\n",
            "        Return the cube root of x.\n",
            "\n",
            "    ceil(x, /)\n",
            "        Return the ceiling of x as an Integral.\n",
            "\n",
            "        This is the smallest integer >= x.\n",
            "\n",
            "    comb(n, k, /)\n",
            "        Number of ways to choose k items from n items without repetition and without order.\n",
            "\n",
            "        Evaluates to n! / (k! * (n - k)!) when k <= n and evaluates\n",
            "        to zero when k > n.\n",
            "\n",
            "        Also called the binomial coefficient because it is equivalent\n",
            "        to the coefficient of k-th term in polynomial expansion of the\n",
            "        expression (1 + x)**n.\n",
            "\n",
            "        Raises TypeError if either of the arguments are not integers.\n",
            "        Raises ValueError if either of the arguments are negative.\n",
            "\n",
            "    copysign(x, y, /)\n",
            "        Return a float with the magnitude (absolute value) of x but the sign of y.\n",
            "\n",
            "        On platforms that support signed zeros, copysign(1.0, -0.0)\n",
            "        returns -1.0.\n",
            "\n",
            "    cos(x, /)\n",
            "        Return the cosine of x (measured in radians).\n",
            "\n",
            "    cosh(x, /)\n",
            "        Return the hyperbolic cosine of x.\n",
            "\n",
            "    degrees(x, /)\n",
            "        Convert angle x from radians to degrees.\n",
            "\n",
            "    dist(p, q, /)\n",
            "        Return the Euclidean distance between two points p and q.\n",
            "\n",
            "        The points should be specified as sequences (or iterables) of\n",
            "        coordinates.  Both inputs must have the same dimension.\n",
            "\n",
            "        Roughly equivalent to:\n",
            "            sqrt(sum((px - qx) ** 2.0 for px, qx in zip(p, q)))\n",
            "\n",
            "    erf(x, /)\n",
            "        Error function at x.\n",
            "\n",
            "    erfc(x, /)\n",
            "        Complementary error function at x.\n",
            "\n",
            "    exp(x, /)\n",
            "        Return e raised to the power of x.\n",
            "\n",
            "    exp2(x, /)\n",
            "        Return 2 raised to the power of x.\n",
            "\n",
            "    expm1(x, /)\n",
            "        Return exp(x)-1.\n",
            "\n",
            "        This function avoids the loss of precision involved in the direct evaluation of exp(x)-1 for small x.\n",
            "\n",
            "    fabs(x, /)\n",
            "        Return the absolute value of the float x.\n",
            "\n",
            "    factorial(n, /)\n",
            "        Find n!.\n",
            "\n",
            "        Raise a ValueError if x is negative or non-integral.\n",
            "\n",
            "    floor(x, /)\n",
            "        Return the floor of x as an Integral.\n",
            "\n",
            "        This is the largest integer <= x.\n",
            "\n",
            "    fmod(x, y, /)\n",
            "        Return fmod(x, y), according to platform C.\n",
            "\n",
            "        x % y may differ.\n",
            "\n",
            "    frexp(x, /)\n",
            "        Return the mantissa and exponent of x, as pair (m, e).\n",
            "\n",
            "        m is a float and e is an int, such that x = m * 2.**e.\n",
            "        If x is 0, m and e are both 0.  Else 0.5 <= abs(m) < 1.0.\n",
            "\n",
            "    fsum(seq, /)\n",
            "        Return an accurate floating-point sum of values in the iterable seq.\n",
            "\n",
            "        Assumes IEEE-754 floating-point arithmetic.\n",
            "\n",
            "    gamma(x, /)\n",
            "        Gamma function at x.\n",
            "\n",
            "    gcd(*integers)\n",
            "        Greatest Common Divisor.\n",
            "\n",
            "    hypot(...)\n",
            "        hypot(*coordinates) -> value\n",
            "\n",
            "        Multidimensional Euclidean distance from the origin to a point.\n",
            "\n",
            "        Roughly equivalent to:\n",
            "            sqrt(sum(x**2 for x in coordinates))\n",
            "\n",
            "        For a two dimensional point (x, y), gives the hypotenuse\n",
            "        using the Pythagorean theorem:  sqrt(x*x + y*y).\n",
            "\n",
            "        For example, the hypotenuse of a 3/4/5 right triangle is:\n",
            "\n",
            "            >>> hypot(3.0, 4.0)\n",
            "            5.0\n",
            "\n",
            "    isclose(a, b, *, rel_tol=1e-09, abs_tol=0.0)\n",
            "        Determine whether two floating-point numbers are close in value.\n",
            "\n",
            "          rel_tol\n",
            "            maximum difference for being considered \"close\", relative to the\n",
            "            magnitude of the input values\n",
            "          abs_tol\n",
            "            maximum difference for being considered \"close\", regardless of the\n",
            "            magnitude of the input values\n",
            "\n",
            "        Return True if a is close in value to b, and False otherwise.\n",
            "\n",
            "        For the values to be considered close, the difference between them\n",
            "        must be smaller than at least one of the tolerances.\n",
            "\n",
            "        -inf, inf and NaN behave similarly to the IEEE 754 Standard.  That\n",
            "        is, NaN is not close to anything, even itself.  inf and -inf are\n",
            "        only close to themselves.\n",
            "\n",
            "    isfinite(x, /)\n",
            "        Return True if x is neither an infinity nor a NaN, and False otherwise.\n",
            "\n",
            "    isinf(x, /)\n",
            "        Return True if x is a positive or negative infinity, and False otherwise.\n",
            "\n",
            "    isnan(x, /)\n",
            "        Return True if x is a NaN (not a number), and False otherwise.\n",
            "\n",
            "    isqrt(n, /)\n",
            "        Return the integer part of the square root of the input.\n",
            "\n",
            "    lcm(*integers)\n",
            "        Least Common Multiple.\n",
            "\n",
            "    ldexp(x, i, /)\n",
            "        Return x * (2**i).\n",
            "\n",
            "        This is essentially the inverse of frexp().\n",
            "\n",
            "    lgamma(x, /)\n",
            "        Natural logarithm of absolute value of Gamma function at x.\n",
            "\n",
            "    log(...)\n",
            "        log(x, [base=math.e])\n",
            "        Return the logarithm of x to the given base.\n",
            "\n",
            "        If the base is not specified, returns the natural logarithm (base e) of x.\n",
            "\n",
            "    log10(x, /)\n",
            "        Return the base 10 logarithm of x.\n",
            "\n",
            "    log1p(x, /)\n",
            "        Return the natural logarithm of 1+x (base e).\n",
            "\n",
            "        The result is computed in a way which is accurate for x near zero.\n",
            "\n",
            "    log2(x, /)\n",
            "        Return the base 2 logarithm of x.\n",
            "\n",
            "    modf(x, /)\n",
            "        Return the fractional and integer parts of x.\n",
            "\n",
            "        Both results carry the sign of x and are floats.\n",
            "\n",
            "    nextafter(x, y, /, *, steps=None)\n",
            "        Return the floating-point value the given number of steps after x towards y.\n",
            "\n",
            "        If steps is not specified or is None, it defaults to 1.\n",
            "\n",
            "        Raises a TypeError, if x or y is not a double, or if steps is not an integer.\n",
            "        Raises ValueError if steps is negative.\n",
            "\n",
            "    perm(n, k=None, /)\n",
            "        Number of ways to choose k items from n items without repetition and with order.\n",
            "\n",
            "        Evaluates to n! / (n - k)! when k <= n and evaluates\n",
            "        to zero when k > n.\n",
            "\n",
            "        If k is not specified or is None, then k defaults to n\n",
            "        and the function returns n!.\n",
            "\n",
            "        Raises TypeError if either of the arguments are not integers.\n",
            "        Raises ValueError if either of the arguments are negative.\n",
            "\n",
            "    pow(x, y, /)\n",
            "        Return x**y (x to the power of y).\n",
            "\n",
            "    prod(iterable, /, *, start=1)\n",
            "        Calculate the product of all the elements in the input iterable.\n",
            "\n",
            "        The default start value for the product is 1.\n",
            "\n",
            "        When the iterable is empty, return the start value.  This function is\n",
            "        intended specifically for use with numeric values and may reject\n",
            "        non-numeric types.\n",
            "\n",
            "    radians(x, /)\n",
            "        Convert angle x from degrees to radians.\n",
            "\n",
            "    remainder(x, y, /)\n",
            "        Difference between x and the closest integer multiple of y.\n",
            "\n",
            "        Return x - n*y where n*y is the closest integer multiple of y.\n",
            "        In the case where x is exactly halfway between two multiples of\n",
            "        y, the nearest even value of n is used. The result is always exact.\n",
            "\n",
            "    sin(x, /)\n",
            "        Return the sine of x (measured in radians).\n",
            "\n",
            "    sinh(x, /)\n",
            "        Return the hyperbolic sine of x.\n",
            "\n",
            "    sqrt(x, /)\n",
            "        Return the square root of x.\n",
            "\n",
            "    sumprod(p, q, /)\n",
            "        Return the sum of products of values from two iterables p and q.\n",
            "\n",
            "        Roughly equivalent to:\n",
            "\n",
            "            sum(itertools.starmap(operator.mul, zip(p, q, strict=True)))\n",
            "\n",
            "        For float and mixed int/float inputs, the intermediate products\n",
            "        and sums are computed with extended precision.\n",
            "\n",
            "    tan(x, /)\n",
            "        Return the tangent of x (measured in radians).\n",
            "\n",
            "    tanh(x, /)\n",
            "        Return the hyperbolic tangent of x.\n",
            "\n",
            "    trunc(x, /)\n",
            "        Truncates the Real x to the nearest Integral toward 0.\n",
            "\n",
            "        Uses the __trunc__ magic method.\n",
            "\n",
            "    ulp(x, /)\n",
            "        Return the value of the least significant bit of the float x.\n",
            "\n",
            "DATA\n",
            "    e = 2.718281828459045\n",
            "    inf = inf\n",
            "    nan = nan\n",
            "    pi = 3.141592653589793\n",
            "    tau = 6.283185307179586\n",
            "\n",
            "FILE\n",
            "    (built-in)\n",
            "\n",
            "\n"
          ]
        }
      ],
      "source": [
        "isim=\"ela\"                \"\"\"9.örnek\"\"\"\n",
        "password=\"ela\"\n",
        "import math\n",
        "\n",
        "help(math)"
      ]
    },
    {
      "cell_type": "code",
      "execution_count": null,
      "metadata": {
        "colab": {
          "base_uri": "https://localhost:8080/"
        },
        "id": "7OMK037hEvrA",
        "outputId": "6c52f3b8-3714-486b-d561-bf1f4fa25227"
      },
      "outputs": [
        {
          "data": {
            "text/plain": [
              "80"
            ]
          },
          "execution_count": 37,
          "metadata": {},
          "output_type": "execute_result"
        }
      ],
      "source": [
        "import math as matematik      \"\"\"10.örnek\"\"\"\n",
        "matematik.pow(2,2)\n",
        "2**2\n",
        "matematik.cos(60)\n",
        "matematik.sin(60)\n",
        "\n",
        "matematik.sqrt(4)\n",
        "\n",
        "from math import *\n",
        "\n",
        "import time\n",
        "\n",
        "import random\n",
        "\n",
        "rastgele=random.randint(1,100)\n",
        "rastgele"
      ]
    },
    {
      "cell_type": "code",
      "execution_count": null,
      "metadata": {
        "colab": {
          "background_save": true,
          "base_uri": "https://localhost:8080/"
        },
        "id": "l6bFp6iXE4-K",
        "outputId": "e86f6e43-3a37-4747-87cb-50cdadd49cf2"
      },
      "outputs": [
        {
          "name": "stdout",
          "output_type": "stream",
          "text": [
            "kontrol ediliyor\n",
            "sayıyı büyült\n"
          ]
        }
      ],
      "source": [
        "import random              \"\"\"11.örnek\"\"\"\n",
        "import time\n",
        "rastgele=random.randint(1,100)\n",
        "tahmin=5\n",
        "while True:\n",
        "  tahmin=int(input(\"tahmin gir 1-100 arası :\"))\n",
        "  print(\"kontrol ediliyor\")\n",
        "  if( tahmin==rastgele):\n",
        "    print(\"kontrol ediliyor\")\n",
        "    time.sleep(1)\n",
        "    print(\"girilen sayi\",tahmin)\n",
        "    print(\"tebrikler\")\n",
        "    break\n",
        "  elif( tahmin<rastgele):\n",
        "    print(\"sayıyı büyült\")\n",
        "  elif(tahmin>rastgele):\n",
        "    print(\"sayıyı küşçült\")\n",
        "    break"
      ]
    },
    {
      "cell_type": "code",
      "execution_count": null,
      "metadata": {
        "id": "_4X8FoUHFYCE"
      },
      "outputs": [],
      "source": [
        "\"\"\"YAPICI METOT\"\"\"\n",
        "def __init__(self,isim,yas):\n",
        "self.isim=isim\n",
        "self.yas=yas\n",
        "def getYas(self):\n",
        "return self.yas\n",
        "def getAd(self):\n",
        "return self.isim\n",
        "h1=Hayvan(\"dog\",2)\n",
        "h1_yas=h1.getYas()\n",
        "print(\"h1 in yaşı :\",h1_yas)\n",
        "\n",
        "h1_isim=h1.getAd()\n",
        "print(\"h1 in isim :\",h1_isim)\n",
        "\n",
        "h2=Hayvan(\"cat\",3)\n",
        "h2_yas=h2.getYas()\n",
        "print(\"h2 in yaşı :\",h2_yas)"
      ]
    },
    {
      "cell_type": "code",
      "execution_count": null,
      "metadata": {
        "id": "zL9zkmirFtPN"
      },
      "outputs": [],
      "source": [
        "\"\"\"OOP ile Basit Bir Hesap Makinesi Proje\"\"\"\n",
        "class Makine():\n",
        "\"hesap makinesi\"\n",
        "def __init__(self,a,b):\n",
        "\"başlangıç değerlerini ayarlar\"\n",
        "\n",
        "\"\"\" pass \"\"\"\n",
        "self.deger1=a\n",
        "self.deger2=b\n",
        "\n",
        "def topla(self):\n",
        "\" toplama a+b = sonuc -> return sonucs\"\n",
        "sonuc=self.deger1+self.deger2\n",
        "return sonuc\n",
        "\"\"\"pass\"\"\"\n",
        "def carp(self):\n",
        "\"carpma a*b= sonuc -> return sonuc\"\n",
        "sonuc=self.deger1*self.deger2\n",
        "return sonuc\n",
        "\"\"\"pass\"\"\"\n",
        "def cikar(self):\n",
        "return self.deger1-self.deger2\n",
        "def bol(self):\n",
        "return self.deger1/self.deger2\n",
        "x=5\n",
        "y=2\n",
        "h: Makine=Makine(x,y)\n",
        "tSonuc=h.topla()\n",
        "cSonuc=h.carp()\n",
        "print(\"toplama sonuc: {}, çarpma sonucu: {}\".format(tSonuc,cSonuc))\n"
      ]
    },
    {
      "cell_type": "code",
      "execution_count": null,
      "metadata": {
        "id": "EBDdYol5GBki"
      },
      "outputs": [],
      "source": [
        "class Banka():                  \"\"\"Encapsulation Örneği\"\"\"\n",
        "def __init__(self,isim,para,adres):\n",
        "self.isim=isim\n",
        "self.para=para\n",
        "self.adres=adres\n",
        "hesap1=Banka(\"ela\",1000,\"istanbul\")\n",
        "hesap2=Banka(\"ömer\",5000,\"Kocaeli\")\n",
        "hesap1.para\n",
        "hesap2.para=hesap2.para+hesap1.para\n",
        "hesap2.para\n",
        "hesap1.para=0\n",
        "hesap1.para"
      ]
    },
    {
      "cell_type": "code",
      "execution_count": null,
      "metadata": {
        "id": "zMrmWO_cGBn0"
      },
      "outputs": [],
      "source": [
        "class Banka2():\n",
        "def __init__(self,isim,para,adres):\n",
        "self.__isim=isim\n",
        "self.__para=para\n",
        "self.__adres=adres\n",
        "\n",
        "def getPara(self):\n",
        "return self.__para\n",
        "def setPara(self,miktar):\n",
        "self.__para=miktar\n",
        "def islemSayisi(self):\n",
        "self.__para=self.__para-10\n",
        "hes1=Banka2(\"Sinan\",1000,\"istanbul\")\n",
        "hes2=Banka2(\"Ayşe\",5000,\"Erzurum\")\n",
        "print(\"1. hesaptaki para: \",hes1.getPara())\n",
        "hes1.setPara(100)\n",
        "print(\"set işlemi sonrası 1. hesaptaki para değişimi :\",hes1.getPara())\n"
      ]
    },
    {
      "cell_type": "code",
      "execution_count": null,
      "metadata": {
        "id": "Ka_yPSddGPl5"
      },
      "outputs": [],
      "source": [
        "class Animal():              \"\"\"Miras Alma Örneği\"\"\"\n",
        "def __init__(self):\n",
        "print(\"hayvan sınıfının yapıcı metotum\")\n",
        "def sesCikar(self):\n",
        "print(\"hav,miyav,vak....\")\n",
        "def hareket(self):\n",
        "print(\"zıplar,koşar,yürür..\")\n",
        "\n",
        "class kedi(Animal):\n",
        "def __init__(self):\n",
        "super().__init__()\n",
        "print(\"kedi sınıfı oluşturuldu\")\n",
        "def sesCikar(self):\n",
        "print(\"miyav\")\n",
        "def DokuzCan(self):\n",
        "print(\"Bu sevimli hayvanlar hep dört ayak üstüne düşer\")\n",
        "\n",
        "k1=kedi()\n",
        "k1.sesCikar()\n",
        "k1.hareket()\n",
        "k1.DokuzCan()\n",
        "\n",
        "class kus(Animal):\n",
        "def __init__(self):\n",
        "print(\"kus sınıfı oluşturldu\")\n",
        "def ucma(self):\n",
        "print(\"kanatları vardır uçarlar\")\n",
        "kus1=kus()\n",
        "kus1.ucma()\n",
        "kus1.hareket()"
      ]
    }
  ],
  "metadata": {
    "colab": {
      "provenance": [],
      "authorship_tag": "ABX9TyPATqMuLwz1/u/OMDAVadL6",
      "include_colab_link": true
    },
    "kernelspec": {
      "display_name": "Python 3",
      "name": "python3"
    },
    "language_info": {
      "name": "python"
    }
  },
  "nbformat": 4,
  "nbformat_minor": 0
}